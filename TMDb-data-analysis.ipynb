{
 "cells": [
  {
   "cell_type": "markdown",
   "id": "a8c0edce",
   "metadata": {},
   "source": [
    "# Title: Investigation and Analysis of The TMDB Data"
   ]
  },
  {
   "cell_type": "markdown",
   "id": "0b2d6033",
   "metadata": {},
   "source": [
    "## Author: Maryam Oyeyiola"
   ]
  },
  {
   "cell_type": "markdown",
   "id": "843a9d2c",
   "metadata": {},
   "source": [
    "# Introduction"
   ]
  },
  {
   "cell_type": "markdown",
   "id": "79df2e3a",
   "metadata": {},
   "source": [
    "## Data Set Overview\n",
    "\n",
    ">This data set contains information about 10,000 movies collected from The Movie Database (TMDb), including user ratings and revenue.\n",
    "\n",
    ">- Certain columns, like ‘cast’ and ‘genres’, contain multiple values separated by pipe (|) characters.\n",
    "\n",
    ">- There are some odd characters in the ‘cast’ column. Don’t worry about cleaning them. You can leave them as is.\n",
    "\n",
    ">- The final two columns ending with “_adj” show the budget and revenue of the associated movie in terms of 2010 dollars, accounting for inflation over time."
   ]
  },
  {
   "cell_type": "markdown",
   "id": "a713210f",
   "metadata": {},
   "source": [
    "## Data Set Description\n",
    "\n",
    "0.  id    --------------------   movie id number\n",
    "1.  imdb_id      --------------------         movie imdb id string\n",
    "2.  popularity    --------------------        level of popularity\n",
    "3.  budget       --------------------         cost of production  \n",
    "4.  revenue       --------------------        proceeds of production  \n",
    "5.  original_title  --------------------      movie title \n",
    "6.  cast            --------------------      actors names \n",
    "7.  homepage        --------------------      movie webpage \n",
    "8.  director        --------------------      movie directors \n",
    "9.  tagline        --------------------       movie's slogan \n",
    "10. keywords       --------------------       movie ciphers or codes\n",
    "11. overview       --------------------       movie summary \n",
    "12. runtime        --------------------       duration of the movie \n",
    "13. genres         --------------------       category of the movie \n",
    "14. production_companies--------------------  companies involved in the movie production \n",
    "15. release_date        --------------------  movie release date \n",
    "16. vote_count          --------------------  total count of viewers votes  \n",
    "17. vote_average       --------------------   average of vote_count\n",
    "18. release_year       --------------------   year movie was distributed\n",
    "19. budget_adj         --------------------   cost of production in dollars\n",
    "20. revenue_adj        --------------------   proceeds of production in dollars\n"
   ]
  },
  {
   "cell_type": "markdown",
   "id": "fafae93b",
   "metadata": {},
   "source": [
    "## Analysis Questions\n",
    "\n",
    "\n",
    "1. Which movie genre is the produced most?\n",
    "2. Which genre requires a high budget?\n",
    "3. Which genre pulls in the highest profit for producers?\n",
    "4. Which actor appeared in the most movies?\n",
    "5. Which director directed more movies than others?\n",
    "6. which production company produced the most movies over the years?\n",
    "7. Which year had the best ratings in the movie industry?\n",
    "8. Which year had the highest gross profit?\n",
    "9. Do movies with high ratings have a higher gross profit?\n",
    "10. What kinds of properties are associated with movies that have high profit?\n",
    "\n",
    "\n"
   ]
  },
  {
   "cell_type": "code",
   "execution_count": 1,
   "id": "5c978dae",
   "metadata": {},
   "outputs": [],
   "source": [
    "# imorting libraries\n",
    "import pandas as pd\n",
    "import numpy as np\n",
    "import matplotlib.pyplot as plt\n",
    "%matplotlib inline\n",
    "import warnings\n",
    "warnings.filterwarnings('ignore')"
   ]
  },
  {
   "cell_type": "markdown",
   "id": "657346d5",
   "metadata": {},
   "source": [
    "# Data Wrangling\n",
    "\n",
    ">This dataset was downloaded to my PC from Udacity's [dataset option list](https://s3.amazonaws.com/video.udacity-data.com/topher/2018/July/5b57919a_data-set-options/data-set-options.pdf). It was then imported to my local environment."
   ]
  },
  {
   "cell_type": "markdown",
   "id": "7681aa03",
   "metadata": {},
   "source": [
    "## General Properties"
   ]
  },
  {
   "cell_type": "code",
   "execution_count": 2,
   "id": "ef8996b6",
   "metadata": {},
   "outputs": [],
   "source": [
    "pd.set_option(\"display.max_columns\", None) #display all columns\n",
    "data = pd.read_csv('tmdb-movies.csv')"
   ]
  },
  {
   "cell_type": "code",
   "execution_count": 3,
   "id": "b316143d",
   "metadata": {
    "scrolled": false
   },
   "outputs": [
    {
     "data": {
      "text/html": [
       "<div>\n",
       "<style scoped>\n",
       "    .dataframe tbody tr th:only-of-type {\n",
       "        vertical-align: middle;\n",
       "    }\n",
       "\n",
       "    .dataframe tbody tr th {\n",
       "        vertical-align: top;\n",
       "    }\n",
       "\n",
       "    .dataframe thead th {\n",
       "        text-align: right;\n",
       "    }\n",
       "</style>\n",
       "<table border=\"1\" class=\"dataframe\">\n",
       "  <thead>\n",
       "    <tr style=\"text-align: right;\">\n",
       "      <th></th>\n",
       "      <th>id</th>\n",
       "      <th>imdb_id</th>\n",
       "      <th>popularity</th>\n",
       "      <th>budget</th>\n",
       "      <th>revenue</th>\n",
       "      <th>original_title</th>\n",
       "      <th>cast</th>\n",
       "      <th>homepage</th>\n",
       "      <th>director</th>\n",
       "      <th>tagline</th>\n",
       "      <th>keywords</th>\n",
       "      <th>overview</th>\n",
       "      <th>runtime</th>\n",
       "      <th>genres</th>\n",
       "      <th>production_companies</th>\n",
       "      <th>release_date</th>\n",
       "      <th>vote_count</th>\n",
       "      <th>vote_average</th>\n",
       "      <th>release_year</th>\n",
       "      <th>budget_adj</th>\n",
       "      <th>revenue_adj</th>\n",
       "    </tr>\n",
       "  </thead>\n",
       "  <tbody>\n",
       "    <tr>\n",
       "      <th>0</th>\n",
       "      <td>135397</td>\n",
       "      <td>tt0369610</td>\n",
       "      <td>32.985763</td>\n",
       "      <td>150000000</td>\n",
       "      <td>1513528810</td>\n",
       "      <td>Jurassic World</td>\n",
       "      <td>Chris Pratt|Bryce Dallas Howard|Irrfan Khan|Vi...</td>\n",
       "      <td>http://www.jurassicworld.com/</td>\n",
       "      <td>Colin Trevorrow</td>\n",
       "      <td>The park is open.</td>\n",
       "      <td>monster|dna|tyrannosaurus rex|velociraptor|island</td>\n",
       "      <td>Twenty-two years after the events of Jurassic ...</td>\n",
       "      <td>124</td>\n",
       "      <td>Action|Adventure|Science Fiction|Thriller</td>\n",
       "      <td>Universal Studios|Amblin Entertainment|Legenda...</td>\n",
       "      <td>6/9/15</td>\n",
       "      <td>5562</td>\n",
       "      <td>6.5</td>\n",
       "      <td>2015</td>\n",
       "      <td>1.379999e+08</td>\n",
       "      <td>1.392446e+09</td>\n",
       "    </tr>\n",
       "    <tr>\n",
       "      <th>1</th>\n",
       "      <td>76341</td>\n",
       "      <td>tt1392190</td>\n",
       "      <td>28.419936</td>\n",
       "      <td>150000000</td>\n",
       "      <td>378436354</td>\n",
       "      <td>Mad Max: Fury Road</td>\n",
       "      <td>Tom Hardy|Charlize Theron|Hugh Keays-Byrne|Nic...</td>\n",
       "      <td>http://www.madmaxmovie.com/</td>\n",
       "      <td>George Miller</td>\n",
       "      <td>What a Lovely Day.</td>\n",
       "      <td>future|chase|post-apocalyptic|dystopia|australia</td>\n",
       "      <td>An apocalyptic story set in the furthest reach...</td>\n",
       "      <td>120</td>\n",
       "      <td>Action|Adventure|Science Fiction|Thriller</td>\n",
       "      <td>Village Roadshow Pictures|Kennedy Miller Produ...</td>\n",
       "      <td>5/13/15</td>\n",
       "      <td>6185</td>\n",
       "      <td>7.1</td>\n",
       "      <td>2015</td>\n",
       "      <td>1.379999e+08</td>\n",
       "      <td>3.481613e+08</td>\n",
       "    </tr>\n",
       "    <tr>\n",
       "      <th>2</th>\n",
       "      <td>262500</td>\n",
       "      <td>tt2908446</td>\n",
       "      <td>13.112507</td>\n",
       "      <td>110000000</td>\n",
       "      <td>295238201</td>\n",
       "      <td>Insurgent</td>\n",
       "      <td>Shailene Woodley|Theo James|Kate Winslet|Ansel...</td>\n",
       "      <td>http://www.thedivergentseries.movie/#insurgent</td>\n",
       "      <td>Robert Schwentke</td>\n",
       "      <td>One Choice Can Destroy You</td>\n",
       "      <td>based on novel|revolution|dystopia|sequel|dyst...</td>\n",
       "      <td>Beatrice Prior must confront her inner demons ...</td>\n",
       "      <td>119</td>\n",
       "      <td>Adventure|Science Fiction|Thriller</td>\n",
       "      <td>Summit Entertainment|Mandeville Films|Red Wago...</td>\n",
       "      <td>3/18/15</td>\n",
       "      <td>2480</td>\n",
       "      <td>6.3</td>\n",
       "      <td>2015</td>\n",
       "      <td>1.012000e+08</td>\n",
       "      <td>2.716190e+08</td>\n",
       "    </tr>\n",
       "    <tr>\n",
       "      <th>3</th>\n",
       "      <td>140607</td>\n",
       "      <td>tt2488496</td>\n",
       "      <td>11.173104</td>\n",
       "      <td>200000000</td>\n",
       "      <td>2068178225</td>\n",
       "      <td>Star Wars: The Force Awakens</td>\n",
       "      <td>Harrison Ford|Mark Hamill|Carrie Fisher|Adam D...</td>\n",
       "      <td>http://www.starwars.com/films/star-wars-episod...</td>\n",
       "      <td>J.J. Abrams</td>\n",
       "      <td>Every generation has a story.</td>\n",
       "      <td>android|spaceship|jedi|space opera|3d</td>\n",
       "      <td>Thirty years after defeating the Galactic Empi...</td>\n",
       "      <td>136</td>\n",
       "      <td>Action|Adventure|Science Fiction|Fantasy</td>\n",
       "      <td>Lucasfilm|Truenorth Productions|Bad Robot</td>\n",
       "      <td>12/15/15</td>\n",
       "      <td>5292</td>\n",
       "      <td>7.5</td>\n",
       "      <td>2015</td>\n",
       "      <td>1.839999e+08</td>\n",
       "      <td>1.902723e+09</td>\n",
       "    </tr>\n",
       "    <tr>\n",
       "      <th>4</th>\n",
       "      <td>168259</td>\n",
       "      <td>tt2820852</td>\n",
       "      <td>9.335014</td>\n",
       "      <td>190000000</td>\n",
       "      <td>1506249360</td>\n",
       "      <td>Furious 7</td>\n",
       "      <td>Vin Diesel|Paul Walker|Jason Statham|Michelle ...</td>\n",
       "      <td>http://www.furious7.com/</td>\n",
       "      <td>James Wan</td>\n",
       "      <td>Vengeance Hits Home</td>\n",
       "      <td>car race|speed|revenge|suspense|car</td>\n",
       "      <td>Deckard Shaw seeks revenge against Dominic Tor...</td>\n",
       "      <td>137</td>\n",
       "      <td>Action|Crime|Thriller</td>\n",
       "      <td>Universal Pictures|Original Film|Media Rights ...</td>\n",
       "      <td>4/1/15</td>\n",
       "      <td>2947</td>\n",
       "      <td>7.3</td>\n",
       "      <td>2015</td>\n",
       "      <td>1.747999e+08</td>\n",
       "      <td>1.385749e+09</td>\n",
       "    </tr>\n",
       "  </tbody>\n",
       "</table>\n",
       "</div>"
      ],
      "text/plain": [
       "       id    imdb_id  popularity     budget     revenue  \\\n",
       "0  135397  tt0369610   32.985763  150000000  1513528810   \n",
       "1   76341  tt1392190   28.419936  150000000   378436354   \n",
       "2  262500  tt2908446   13.112507  110000000   295238201   \n",
       "3  140607  tt2488496   11.173104  200000000  2068178225   \n",
       "4  168259  tt2820852    9.335014  190000000  1506249360   \n",
       "\n",
       "                 original_title  \\\n",
       "0                Jurassic World   \n",
       "1            Mad Max: Fury Road   \n",
       "2                     Insurgent   \n",
       "3  Star Wars: The Force Awakens   \n",
       "4                     Furious 7   \n",
       "\n",
       "                                                cast  \\\n",
       "0  Chris Pratt|Bryce Dallas Howard|Irrfan Khan|Vi...   \n",
       "1  Tom Hardy|Charlize Theron|Hugh Keays-Byrne|Nic...   \n",
       "2  Shailene Woodley|Theo James|Kate Winslet|Ansel...   \n",
       "3  Harrison Ford|Mark Hamill|Carrie Fisher|Adam D...   \n",
       "4  Vin Diesel|Paul Walker|Jason Statham|Michelle ...   \n",
       "\n",
       "                                            homepage          director  \\\n",
       "0                      http://www.jurassicworld.com/   Colin Trevorrow   \n",
       "1                        http://www.madmaxmovie.com/     George Miller   \n",
       "2     http://www.thedivergentseries.movie/#insurgent  Robert Schwentke   \n",
       "3  http://www.starwars.com/films/star-wars-episod...       J.J. Abrams   \n",
       "4                           http://www.furious7.com/         James Wan   \n",
       "\n",
       "                         tagline  \\\n",
       "0              The park is open.   \n",
       "1             What a Lovely Day.   \n",
       "2     One Choice Can Destroy You   \n",
       "3  Every generation has a story.   \n",
       "4            Vengeance Hits Home   \n",
       "\n",
       "                                            keywords  \\\n",
       "0  monster|dna|tyrannosaurus rex|velociraptor|island   \n",
       "1   future|chase|post-apocalyptic|dystopia|australia   \n",
       "2  based on novel|revolution|dystopia|sequel|dyst...   \n",
       "3              android|spaceship|jedi|space opera|3d   \n",
       "4                car race|speed|revenge|suspense|car   \n",
       "\n",
       "                                            overview  runtime  \\\n",
       "0  Twenty-two years after the events of Jurassic ...      124   \n",
       "1  An apocalyptic story set in the furthest reach...      120   \n",
       "2  Beatrice Prior must confront her inner demons ...      119   \n",
       "3  Thirty years after defeating the Galactic Empi...      136   \n",
       "4  Deckard Shaw seeks revenge against Dominic Tor...      137   \n",
       "\n",
       "                                      genres  \\\n",
       "0  Action|Adventure|Science Fiction|Thriller   \n",
       "1  Action|Adventure|Science Fiction|Thriller   \n",
       "2         Adventure|Science Fiction|Thriller   \n",
       "3   Action|Adventure|Science Fiction|Fantasy   \n",
       "4                      Action|Crime|Thriller   \n",
       "\n",
       "                                production_companies release_date  vote_count  \\\n",
       "0  Universal Studios|Amblin Entertainment|Legenda...       6/9/15        5562   \n",
       "1  Village Roadshow Pictures|Kennedy Miller Produ...      5/13/15        6185   \n",
       "2  Summit Entertainment|Mandeville Films|Red Wago...      3/18/15        2480   \n",
       "3          Lucasfilm|Truenorth Productions|Bad Robot     12/15/15        5292   \n",
       "4  Universal Pictures|Original Film|Media Rights ...       4/1/15        2947   \n",
       "\n",
       "   vote_average  release_year    budget_adj   revenue_adj  \n",
       "0           6.5          2015  1.379999e+08  1.392446e+09  \n",
       "1           7.1          2015  1.379999e+08  3.481613e+08  \n",
       "2           6.3          2015  1.012000e+08  2.716190e+08  \n",
       "3           7.5          2015  1.839999e+08  1.902723e+09  \n",
       "4           7.3          2015  1.747999e+08  1.385749e+09  "
      ]
     },
     "execution_count": 3,
     "metadata": {},
     "output_type": "execute_result"
    }
   ],
   "source": [
    "data.head()"
   ]
  },
  {
   "cell_type": "code",
   "execution_count": 4,
   "id": "149de151",
   "metadata": {},
   "outputs": [
    {
     "data": {
      "text/plain": [
       "(10866, 21)"
      ]
     },
     "execution_count": 4,
     "metadata": {},
     "output_type": "execute_result"
    }
   ],
   "source": [
    "data.shape"
   ]
  },
  {
   "cell_type": "markdown",
   "id": "a3e6fa89",
   "metadata": {},
   "source": [
    "## Data Cleaning"
   ]
  },
  {
   "cell_type": "markdown",
   "id": "71959fc1",
   "metadata": {},
   "source": [
    "#### Cleaning tasks\n",
    ">- check the sample counts and data types\n",
    ">- check total of missing values in each column\n",
    ">- check if there are any duplicated samples"
   ]
  },
  {
   "cell_type": "code",
   "execution_count": 5,
   "id": "5b840d28",
   "metadata": {
    "scrolled": false
   },
   "outputs": [
    {
     "name": "stdout",
     "output_type": "stream",
     "text": [
      "<class 'pandas.core.frame.DataFrame'>\n",
      "RangeIndex: 10866 entries, 0 to 10865\n",
      "Data columns (total 21 columns):\n",
      " #   Column                Non-Null Count  Dtype  \n",
      "---  ------                --------------  -----  \n",
      " 0   id                    10866 non-null  int64  \n",
      " 1   imdb_id               10856 non-null  object \n",
      " 2   popularity            10866 non-null  float64\n",
      " 3   budget                10866 non-null  int64  \n",
      " 4   revenue               10866 non-null  int64  \n",
      " 5   original_title        10866 non-null  object \n",
      " 6   cast                  10790 non-null  object \n",
      " 7   homepage              2936 non-null   object \n",
      " 8   director              10822 non-null  object \n",
      " 9   tagline               8042 non-null   object \n",
      " 10  keywords              9373 non-null   object \n",
      " 11  overview              10862 non-null  object \n",
      " 12  runtime               10866 non-null  int64  \n",
      " 13  genres                10843 non-null  object \n",
      " 14  production_companies  9836 non-null   object \n",
      " 15  release_date          10866 non-null  object \n",
      " 16  vote_count            10866 non-null  int64  \n",
      " 17  vote_average          10866 non-null  float64\n",
      " 18  release_year          10866 non-null  int64  \n",
      " 19  budget_adj            10866 non-null  float64\n",
      " 20  revenue_adj           10866 non-null  float64\n",
      "dtypes: float64(4), int64(6), object(11)\n",
      "memory usage: 1.7+ MB\n"
     ]
    }
   ],
   "source": [
    "data.info()"
   ]
  },
  {
   "cell_type": "markdown",
   "id": "80c3fd20",
   "metadata": {},
   "source": [
    ">The column labels are self explantory, but vote_average will be renamed to 'ratings'\n",
    "\n",
    ">The data types too have no issues"
   ]
  },
  {
   "cell_type": "code",
   "execution_count": 6,
   "id": "b5783888",
   "metadata": {},
   "outputs": [],
   "source": [
    "data = data.rename(columns={'vote_average':'ratings'})"
   ]
  },
  {
   "cell_type": "code",
   "execution_count": 7,
   "id": "4135ab79",
   "metadata": {
    "scrolled": false
   },
   "outputs": [
    {
     "data": {
      "text/plain": [
       "id                         0\n",
       "imdb_id                   10\n",
       "popularity                 0\n",
       "budget                     0\n",
       "revenue                    0\n",
       "original_title             0\n",
       "cast                      76\n",
       "homepage                7930\n",
       "director                  44\n",
       "tagline                 2824\n",
       "keywords                1493\n",
       "overview                   4\n",
       "runtime                    0\n",
       "genres                    23\n",
       "production_companies    1030\n",
       "release_date               0\n",
       "vote_count                 0\n",
       "ratings                    0\n",
       "release_year               0\n",
       "budget_adj                 0\n",
       "revenue_adj                0\n",
       "dtype: int64"
      ]
     },
     "execution_count": 7,
     "metadata": {},
     "output_type": "execute_result"
    }
   ],
   "source": [
    "data.isnull().sum()"
   ]
  },
  {
   "cell_type": "code",
   "execution_count": 8,
   "id": "2659089a",
   "metadata": {},
   "outputs": [
    {
     "data": {
      "text/plain": [
       "1"
      ]
     },
     "execution_count": 8,
     "metadata": {},
     "output_type": "execute_result"
    }
   ],
   "source": [
    "data.duplicated().sum()"
   ]
  },
  {
   "cell_type": "markdown",
   "id": "c0a939ce",
   "metadata": {},
   "source": [
    "#### Handling Missing values\n",
    "\n",
    "\n",
    ">- **\"homepage\"** is the feature with the highest missing values. The column can be dropped entirely as the column does not seem to have any relevance to the posed questions. \n",
    "\n",
    ">- The **\"tagline\" and \"Keywords\"** column will also be dropped for the same reason.\n",
    "\n",
    ">- Missing rows in columns **['imdb_id', 'cast', 'director','overview', 'genre', 'production companies']** will be dropped for the same reason."
   ]
  },
  {
   "cell_type": "markdown",
   "id": "18f988d0",
   "metadata": {},
   "source": [
    "#### Handling duplicates\n",
    "\n",
    "- Only one duplicated entry, this will also be dropped"
   ]
  },
  {
   "cell_type": "code",
   "execution_count": 9,
   "id": "95c30b81",
   "metadata": {
    "scrolled": true
   },
   "outputs": [
    {
     "data": {
      "text/plain": [
       "Index(['id', 'imdb_id', 'popularity', 'budget', 'revenue', 'original_title',\n",
       "       'cast', 'homepage', 'director', 'tagline', 'keywords', 'overview',\n",
       "       'runtime', 'genres', 'production_companies', 'release_date',\n",
       "       'vote_count', 'ratings', 'release_year', 'budget_adj', 'revenue_adj'],\n",
       "      dtype='object')"
      ]
     },
     "execution_count": 9,
     "metadata": {},
     "output_type": "execute_result"
    }
   ],
   "source": [
    "data.columns"
   ]
  },
  {
   "cell_type": "code",
   "execution_count": 10,
   "id": "009f193a",
   "metadata": {},
   "outputs": [],
   "source": [
    "data = data.drop(['id', 'imdb_id','homepage','tagline','keywords', 'overview'], axis=1)"
   ]
  },
  {
   "cell_type": "code",
   "execution_count": 11,
   "id": "c594fd05",
   "metadata": {},
   "outputs": [
    {
     "data": {
      "text/plain": [
       "10866"
      ]
     },
     "execution_count": 11,
     "metadata": {},
     "output_type": "execute_result"
    }
   ],
   "source": [
    "data.shape[0]"
   ]
  },
  {
   "cell_type": "code",
   "execution_count": 12,
   "id": "e4fbd29f",
   "metadata": {},
   "outputs": [
    {
     "data": {
      "text/plain": [
       "9773"
      ]
     },
     "execution_count": 12,
     "metadata": {},
     "output_type": "execute_result"
    }
   ],
   "source": [
    "data = data.dropna()\n",
    "data.shape[0]"
   ]
  },
  {
   "cell_type": "markdown",
   "id": "562fbda5",
   "metadata": {},
   "source": [
    ">is the duplicate sample still in the data or it has bee removed with the null values?"
   ]
  },
  {
   "cell_type": "code",
   "execution_count": 13,
   "id": "d56d51a8",
   "metadata": {
    "scrolled": true
   },
   "outputs": [
    {
     "data": {
      "text/plain": [
       "1"
      ]
     },
     "execution_count": 13,
     "metadata": {},
     "output_type": "execute_result"
    }
   ],
   "source": [
    "data.duplicated().sum()"
   ]
  },
  {
   "cell_type": "code",
   "execution_count": 14,
   "id": "4fb67880",
   "metadata": {
    "scrolled": true
   },
   "outputs": [
    {
     "data": {
      "text/html": [
       "<div>\n",
       "<style scoped>\n",
       "    .dataframe tbody tr th:only-of-type {\n",
       "        vertical-align: middle;\n",
       "    }\n",
       "\n",
       "    .dataframe tbody tr th {\n",
       "        vertical-align: top;\n",
       "    }\n",
       "\n",
       "    .dataframe thead th {\n",
       "        text-align: right;\n",
       "    }\n",
       "</style>\n",
       "<table border=\"1\" class=\"dataframe\">\n",
       "  <thead>\n",
       "    <tr style=\"text-align: right;\">\n",
       "      <th></th>\n",
       "      <th>popularity</th>\n",
       "      <th>budget</th>\n",
       "      <th>revenue</th>\n",
       "      <th>original_title</th>\n",
       "      <th>cast</th>\n",
       "      <th>director</th>\n",
       "      <th>runtime</th>\n",
       "      <th>genres</th>\n",
       "      <th>production_companies</th>\n",
       "      <th>release_date</th>\n",
       "      <th>vote_count</th>\n",
       "      <th>ratings</th>\n",
       "      <th>release_year</th>\n",
       "      <th>budget_adj</th>\n",
       "      <th>revenue_adj</th>\n",
       "    </tr>\n",
       "  </thead>\n",
       "  <tbody>\n",
       "    <tr>\n",
       "      <th>2089</th>\n",
       "      <td>0.59643</td>\n",
       "      <td>30000000</td>\n",
       "      <td>967000</td>\n",
       "      <td>TEKKEN</td>\n",
       "      <td>Jon Foo|Kelly Overton|Cary-Hiroyuki Tagawa|Ian...</td>\n",
       "      <td>Dwight H. Little</td>\n",
       "      <td>92</td>\n",
       "      <td>Crime|Drama|Action|Thriller|Science Fiction</td>\n",
       "      <td>Namco|Light Song Films</td>\n",
       "      <td>3/20/10</td>\n",
       "      <td>110</td>\n",
       "      <td>5.0</td>\n",
       "      <td>2010</td>\n",
       "      <td>30000000.0</td>\n",
       "      <td>967000.0</td>\n",
       "    </tr>\n",
       "    <tr>\n",
       "      <th>2090</th>\n",
       "      <td>0.59643</td>\n",
       "      <td>30000000</td>\n",
       "      <td>967000</td>\n",
       "      <td>TEKKEN</td>\n",
       "      <td>Jon Foo|Kelly Overton|Cary-Hiroyuki Tagawa|Ian...</td>\n",
       "      <td>Dwight H. Little</td>\n",
       "      <td>92</td>\n",
       "      <td>Crime|Drama|Action|Thriller|Science Fiction</td>\n",
       "      <td>Namco|Light Song Films</td>\n",
       "      <td>3/20/10</td>\n",
       "      <td>110</td>\n",
       "      <td>5.0</td>\n",
       "      <td>2010</td>\n",
       "      <td>30000000.0</td>\n",
       "      <td>967000.0</td>\n",
       "    </tr>\n",
       "  </tbody>\n",
       "</table>\n",
       "</div>"
      ],
      "text/plain": [
       "      popularity    budget  revenue original_title  \\\n",
       "2089     0.59643  30000000   967000         TEKKEN   \n",
       "2090     0.59643  30000000   967000         TEKKEN   \n",
       "\n",
       "                                                   cast          director  \\\n",
       "2089  Jon Foo|Kelly Overton|Cary-Hiroyuki Tagawa|Ian...  Dwight H. Little   \n",
       "2090  Jon Foo|Kelly Overton|Cary-Hiroyuki Tagawa|Ian...  Dwight H. Little   \n",
       "\n",
       "      runtime                                       genres  \\\n",
       "2089       92  Crime|Drama|Action|Thriller|Science Fiction   \n",
       "2090       92  Crime|Drama|Action|Thriller|Science Fiction   \n",
       "\n",
       "        production_companies release_date  vote_count  ratings  release_year  \\\n",
       "2089  Namco|Light Song Films      3/20/10         110      5.0          2010   \n",
       "2090  Namco|Light Song Films      3/20/10         110      5.0          2010   \n",
       "\n",
       "      budget_adj  revenue_adj  \n",
       "2089  30000000.0     967000.0  \n",
       "2090  30000000.0     967000.0  "
      ]
     },
     "execution_count": 14,
     "metadata": {},
     "output_type": "execute_result"
    }
   ],
   "source": [
    "data[data.duplicated(keep=False)]"
   ]
  },
  {
   "cell_type": "markdown",
   "id": "76d71ed2",
   "metadata": {},
   "source": [
    ">After examining the duplicate, one of them can be dropped. The number of rows in the data should only reduce by 1"
   ]
  },
  {
   "cell_type": "code",
   "execution_count": 15,
   "id": "ab7b90a7",
   "metadata": {},
   "outputs": [
    {
     "data": {
      "text/plain": [
       "9772"
      ]
     },
     "execution_count": 15,
     "metadata": {},
     "output_type": "execute_result"
    }
   ],
   "source": [
    "data = data.drop_duplicates()\n",
    "data.shape[0]"
   ]
  },
  {
   "cell_type": "markdown",
   "id": "24951583",
   "metadata": {},
   "source": [
    ">Now, the data is fairly clean. Time to confirm if the data indeed has zero nulls and duplicates"
   ]
  },
  {
   "cell_type": "code",
   "execution_count": 16,
   "id": "adffc41e",
   "metadata": {
    "scrolled": true
   },
   "outputs": [
    {
     "data": {
      "text/plain": [
       "0"
      ]
     },
     "execution_count": 16,
     "metadata": {},
     "output_type": "execute_result"
    }
   ],
   "source": [
    "data.isnull().any().sum()"
   ]
  },
  {
   "cell_type": "code",
   "execution_count": 17,
   "id": "25e9ce76",
   "metadata": {},
   "outputs": [
    {
     "data": {
      "text/plain": [
       "0"
      ]
     },
     "execution_count": 17,
     "metadata": {},
     "output_type": "execute_result"
    }
   ],
   "source": [
    "data.duplicated().any().sum()"
   ]
  },
  {
   "cell_type": "code",
   "execution_count": 18,
   "id": "e76cbde7",
   "metadata": {
    "scrolled": false
   },
   "outputs": [
    {
     "data": {
      "text/plain": [
       "popularity              float64\n",
       "budget                    int64\n",
       "revenue                   int64\n",
       "original_title           object\n",
       "cast                     object\n",
       "director                 object\n",
       "runtime                   int64\n",
       "genres                   object\n",
       "production_companies     object\n",
       "release_date             object\n",
       "vote_count                int64\n",
       "ratings                 float64\n",
       "release_year              int64\n",
       "budget_adj              float64\n",
       "revenue_adj             float64\n",
       "dtype: object"
      ]
     },
     "execution_count": 18,
     "metadata": {},
     "output_type": "execute_result"
    }
   ],
   "source": [
    "data.dtypes"
   ]
  },
  {
   "cell_type": "markdown",
   "id": "83988082",
   "metadata": {},
   "source": [
    "# Exploratory Data Analysis\n",
    "\n",
    ">Now that the data is clean, time to investigave the dataset by answering posed questions"
   ]
  },
  {
   "cell_type": "markdown",
   "id": "17f3e348",
   "metadata": {},
   "source": [
    "## Which genre is the most popular?"
   ]
  },
  {
   "cell_type": "code",
   "execution_count": 19,
   "id": "42434a3f",
   "metadata": {
    "scrolled": true
   },
   "outputs": [
    {
     "data": {
      "text/plain": [
       "array([2015, 2014, 1977, 2009, 2010, 1999, 2001, 2008, 2011, 2002, 1994,\n",
       "       2012, 2003, 1997, 2013, 1985, 2005, 2006, 2004, 1972, 1980, 2007,\n",
       "       1979, 1984, 1983, 1995, 1992, 1981, 1996, 2000, 1982, 1998, 1989,\n",
       "       1991, 1988, 1987, 1968, 1974, 1975, 1962, 1964, 1971, 1990, 1961,\n",
       "       1960, 1976, 1993, 1967, 1963, 1986, 1973, 1970, 1965, 1969, 1978,\n",
       "       1966], dtype=int64)"
      ]
     },
     "execution_count": 19,
     "metadata": {},
     "output_type": "execute_result"
    }
   ],
   "source": [
    "data.release_year.unique()"
   ]
  },
  {
   "cell_type": "code",
   "execution_count": 20,
   "id": "e16b76b1",
   "metadata": {
    "scrolled": true
   },
   "outputs": [
    {
     "data": {
      "text/plain": [
       "count    9772.000000\n",
       "mean     2000.878428\n",
       "std        13.036794\n",
       "min      1960.000000\n",
       "25%      1994.000000\n",
       "50%      2005.000000\n",
       "75%      2011.000000\n",
       "max      2015.000000\n",
       "Name: release_year, dtype: float64"
      ]
     },
     "execution_count": 20,
     "metadata": {},
     "output_type": "execute_result"
    }
   ],
   "source": [
    "data.release_year.describe() #basic statistics"
   ]
  },
  {
   "cell_type": "markdown",
   "id": "7e5815d1",
   "metadata": {},
   "source": [
    ">resource: [stack() documentation](https://pandas.pydata.org/docs/reference/api/pandas.DataFrame.stack.html)"
   ]
  },
  {
   "cell_type": "code",
   "execution_count": 21,
   "id": "e2fd115c",
   "metadata": {
    "scrolled": false
   },
   "outputs": [
    {
     "data": {
      "text/plain": [
       "Foreign             120\n",
       "TV Movie            132\n",
       "Western             160\n",
       "War                 258\n",
       "History             306\n",
       "Documentary         317\n",
       "Music               339\n",
       "Animation           617\n",
       "Mystery             773\n",
       "Fantasy             840\n",
       "Family             1095\n",
       "Science Fiction    1136\n",
       "Crime              1299\n",
       "Adventure          1384\n",
       "Horror             1526\n",
       "Romance            1570\n",
       "Action             2235\n",
       "Thriller           2746\n",
       "Comedy             3433\n",
       "Drama              4364\n",
       "dtype: int64"
      ]
     },
     "execution_count": 21,
     "metadata": {},
     "output_type": "execute_result"
    }
   ],
   "source": [
    "# frequency of movie genre\n",
    "genre_freq=data.genres.str.split('|', expand=True).stack().value_counts().sort_values(ascending=True)\n",
    "genre_freq"
   ]
  },
  {
   "cell_type": "code",
   "execution_count": 22,
   "id": "2311ed78",
   "metadata": {
    "scrolled": false
   },
   "outputs": [
    {
     "data": {
      "image/png": "[encoded data removed]",
      "text/plain": [
       "<Figure size 720x432 with 1 Axes>"
      ]
     },
     "metadata": {
      "needs_background": "light"
     },
     "output_type": "display_data"
    }
   ],
   "source": [
    "# plot frequency result\n",
    "genre_freq.plot(kind= 'barh', figsize=(10,6),title='Genre popularity from 1960 - 2015', xlabel= 'Genres');"
   ]
  },
  {
   "cell_type": "markdown",
   "id": "dd2fb955",
   "metadata": {},
   "source": [
    "The most popular movie genre is 'Drama' while 'Foriegn' movies are the least"
   ]
  },
  {
   "cell_type": "markdown",
   "id": "60be612b",
   "metadata": {},
   "source": [
    "## Which genre requires a high budget?"
   ]
  },
  {
   "cell_type": "markdown",
   "id": "67b44483",
   "metadata": {},
   "source": [
    ">resource: [explode function](https://thats-it-code.com/pandas/how-to-convert-multivalue-column-to-multiple-rows/)"
   ]
  },
  {
   "cell_type": "code",
   "execution_count": 23,
   "id": "c3df281c",
   "metadata": {},
   "outputs": [],
   "source": [
    "# extract subdata\n",
    "genre_budget = data[['genres','budget']]"
   ]
  },
  {
   "cell_type": "code",
   "execution_count": 24,
   "id": "fd627e53",
   "metadata": {},
   "outputs": [],
   "source": [
    "genre_budget['genres'] = genre_budget.genres.str.split('|')"
   ]
  },
  {
   "cell_type": "code",
   "execution_count": 25,
   "id": "92b1b2ba",
   "metadata": {},
   "outputs": [],
   "source": [
    "# convert genre list to multiple columns\n",
    "genre_budget=genre_budget.explode('genres')"
   ]
  },
  {
   "cell_type": "code",
   "execution_count": 26,
   "id": "2d22d9a7",
   "metadata": {},
   "outputs": [
    {
     "data": {
      "text/html": [
       "<div>\n",
       "<style scoped>\n",
       "    .dataframe tbody tr th:only-of-type {\n",
       "        vertical-align: middle;\n",
       "    }\n",
       "\n",
       "    .dataframe tbody tr th {\n",
       "        vertical-align: top;\n",
       "    }\n",
       "\n",
       "    .dataframe thead th {\n",
       "        text-align: right;\n",
       "    }\n",
       "</style>\n",
       "<table border=\"1\" class=\"dataframe\">\n",
       "  <thead>\n",
       "    <tr style=\"text-align: right;\">\n",
       "      <th></th>\n",
       "      <th>genres</th>\n",
       "      <th>budget</th>\n",
       "    </tr>\n",
       "  </thead>\n",
       "  <tbody>\n",
       "    <tr>\n",
       "      <th>0</th>\n",
       "      <td>Action</td>\n",
       "      <td>150000000</td>\n",
       "    </tr>\n",
       "    <tr>\n",
       "      <th>0</th>\n",
       "      <td>Adventure</td>\n",
       "      <td>150000000</td>\n",
       "    </tr>\n",
       "    <tr>\n",
       "      <th>0</th>\n",
       "      <td>Science Fiction</td>\n",
       "      <td>150000000</td>\n",
       "    </tr>\n",
       "  </tbody>\n",
       "</table>\n",
       "</div>"
      ],
      "text/plain": [
       "            genres     budget\n",
       "0           Action  150000000\n",
       "0        Adventure  150000000\n",
       "0  Science Fiction  150000000"
      ]
     },
     "execution_count": 26,
     "metadata": {},
     "output_type": "execute_result"
    }
   ],
   "source": [
    "genre_budget.head(3)"
   ]
  },
  {
   "cell_type": "code",
   "execution_count": 27,
   "id": "32a7bf87",
   "metadata": {},
   "outputs": [],
   "source": [
    "genres_budget_avg = genre_budget.groupby('genres')['budget'].mean().sort_values()"
   ]
  },
  {
   "cell_type": "code",
   "execution_count": 28,
   "id": "789c8bfc",
   "metadata": {
    "scrolled": false
   },
   "outputs": [
    {
     "data": {
      "image/png": "[encoded data removed]",
      "text/plain": [
       "<Figure size 720x432 with 1 Axes>"
      ]
     },
     "metadata": {
      "needs_background": "light"
     },
     "output_type": "display_data"
    }
   ],
   "source": [
    "genres_budget_avg.plot(kind= 'barh', figsize=(10,6),title='Budget Required to produce a genre', xlabel= 'Genres');"
   ]
  },
  {
   "cell_type": "markdown",
   "id": "0c4e1594",
   "metadata": {},
   "source": [
    ">Even though Comedy and Drama genre are the most produced movie genres, they do not need a very high budget to produce. Adventure being the genre that requires a very high budget is understandable. According to [Rotten Tomatoes](https://editorial.rottentomatoes.com/guide/adventure-movies/) Adventure genre is a combination of any number of the other genres, including fantasy and science-fiction. \n",
    "\n",
    ">An adventure genre kind of movie should run on the thrill of exploration and discovery, treading deep into jungles, stalking across arid deserts, or sailing across open oceans. The casts of characters feature rambunctious pirates, lordly counts, mercenaries and bounty hunters, big whales, and even bigger apes."
   ]
  },
  {
   "cell_type": "markdown",
   "id": "0a1dd804",
   "metadata": {},
   "source": [
    "## Which genre pulls in the highest profit for producers?"
   ]
  },
  {
   "cell_type": "markdown",
   "id": "c256652f",
   "metadata": {},
   "source": [
    ">To calculate profit made from each movie, the budget of making the movie will be subtracted from the revenue generated by the movie"
   ]
  },
  {
   "cell_type": "code",
   "execution_count": 29,
   "id": "578e120e",
   "metadata": {},
   "outputs": [],
   "source": [
    "data['profit'] = data['revenue_adj'] - data['budget_adj']"
   ]
  },
  {
   "cell_type": "code",
   "execution_count": 30,
   "id": "4845e08d",
   "metadata": {},
   "outputs": [],
   "source": [
    "genre_profit = data[['genres','profit']]"
   ]
  },
  {
   "cell_type": "code",
   "execution_count": 31,
   "id": "d9cb4e73",
   "metadata": {},
   "outputs": [],
   "source": [
    "genre_profit['genres'] = genre_profit['genres'].str.split('|')"
   ]
  },
  {
   "cell_type": "code",
   "execution_count": 32,
   "id": "6f0da037",
   "metadata": {},
   "outputs": [],
   "source": [
    "genre_profit = genre_profit.explode('genres')"
   ]
  },
  {
   "cell_type": "code",
   "execution_count": 33,
   "id": "0e2d5f76",
   "metadata": {},
   "outputs": [
    {
     "data": {
      "text/html": [
       "<div>\n",
       "<style scoped>\n",
       "    .dataframe tbody tr th:only-of-type {\n",
       "        vertical-align: middle;\n",
       "    }\n",
       "\n",
       "    .dataframe tbody tr th {\n",
       "        vertical-align: top;\n",
       "    }\n",
       "\n",
       "    .dataframe thead th {\n",
       "        text-align: right;\n",
       "    }\n",
       "</style>\n",
       "<table border=\"1\" class=\"dataframe\">\n",
       "  <thead>\n",
       "    <tr style=\"text-align: right;\">\n",
       "      <th></th>\n",
       "      <th>genres</th>\n",
       "      <th>profit</th>\n",
       "    </tr>\n",
       "  </thead>\n",
       "  <tbody>\n",
       "    <tr>\n",
       "      <th>0</th>\n",
       "      <td>Action</td>\n",
       "      <td>1.254446e+09</td>\n",
       "    </tr>\n",
       "  </tbody>\n",
       "</table>\n",
       "</div>"
      ],
      "text/plain": [
       "   genres        profit\n",
       "0  Action  1.254446e+09"
      ]
     },
     "execution_count": 33,
     "metadata": {},
     "output_type": "execute_result"
    }
   ],
   "source": [
    "genre_profit.head(1)"
   ]
  },
  {
   "cell_type": "code",
   "execution_count": 34,
   "id": "9826b851",
   "metadata": {},
   "outputs": [],
   "source": [
    "genre_profit_avg = genre_profit.groupby('genres')['profit'].mean().sort_values()"
   ]
  },
  {
   "cell_type": "code",
   "execution_count": 35,
   "id": "147713dd",
   "metadata": {
    "scrolled": false
   },
   "outputs": [
    {
     "data": {
      "image/png": "[encoded data removed]",
      "text/plain": [
       "<Figure size 720x432 with 1 Axes>"
      ]
     },
     "metadata": {
      "needs_background": "light"
     },
     "output_type": "display_data"
    }
   ],
   "source": [
    "genre_profit_avg.plot(kind= 'barh', figsize=(10,6),\n",
    "                      title='Average Profit Made From Each Genre', xlabel= 'Genres');"
   ]
  },
  {
   "cell_type": "markdown",
   "id": "942ca783",
   "metadata": {},
   "source": [
    ">Adventure movies may require a high budget, but they also rake high profits. So far we know the most popular genre is Drama and Comedy. A movie that has a cmbination of Drama, Comedy and Adventure, will surely break the box office and put a smile on the producers' faces."
   ]
  },
  {
   "cell_type": "markdown",
   "id": "05890449",
   "metadata": {},
   "source": [
    "## Which actor appeared in the most movies"
   ]
  },
  {
   "cell_type": "code",
   "execution_count": 36,
   "id": "cda14888",
   "metadata": {
    "scrolled": false
   },
   "outputs": [
    {
     "data": {
      "text/plain": [
       "Dennis Quaid         45\n",
       "Julianne Moore       46\n",
       "Tom Hanks            46\n",
       "Alec Baldwin         47\n",
       "Susan Sarandon       47\n",
       "Liam Neeson          47\n",
       "John Cusack          48\n",
       "John Goodman         48\n",
       "Morgan Freeman       49\n",
       "Robin Williams       51\n",
       "Michael Caine        52\n",
       "Nicolas Cage         61\n",
       "Bruce Willis         62\n",
       "Samuel L. Jackson    70\n",
       "Robert De Niro       72\n",
       "dtype: int64"
      ]
     },
     "execution_count": 36,
     "metadata": {},
     "output_type": "execute_result"
    }
   ],
   "source": [
    "actors = data.cast.str.split('|', expand=True)\n",
    "actors = actors.stack().value_counts().sort_values(ascending=True).tail(15)\n",
    "actors"
   ]
  },
  {
   "cell_type": "code",
   "execution_count": 37,
   "id": "a9460c71",
   "metadata": {},
   "outputs": [
    {
     "data": {
      "image/png": "[encoded data removed]",
      "text/plain": [
       "<Figure size 720x432 with 1 Axes>"
      ]
     },
     "metadata": {
      "needs_background": "light"
     },
     "output_type": "display_data"
    }
   ],
   "source": [
    "actors.plot(kind= 'barh', figsize=(10,6),title='Most Popular Actors', xlabel= 'Actors');"
   ]
  },
  {
   "cell_type": "markdown",
   "id": "af2b6cad",
   "metadata": {},
   "source": [
    ">Samuel L. Jackson is only two movies behind Robert De Niro. But that does not mean Samuel L. Jackson is not popular in the movie industry."
   ]
  },
  {
   "cell_type": "markdown",
   "id": "d99b16ab",
   "metadata": {},
   "source": [
    "## Who is the most popular director?"
   ]
  },
  {
   "cell_type": "code",
   "execution_count": 38,
   "id": "5feacf89",
   "metadata": {},
   "outputs": [
    {
     "data": {
      "text/plain": [
       "Woody Allen    42\n",
       "Name: director, dtype: int64"
      ]
     },
     "execution_count": 38,
     "metadata": {},
     "output_type": "execute_result"
    }
   ],
   "source": [
    "director= data.director.value_counts().head(1)\n",
    "director"
   ]
  },
  {
   "cell_type": "code",
   "execution_count": 39,
   "id": "e8b3f95a",
   "metadata": {},
   "outputs": [
    {
     "data": {
      "text/html": [
       "<div>\n",
       "<style scoped>\n",
       "    .dataframe tbody tr th:only-of-type {\n",
       "        vertical-align: middle;\n",
       "    }\n",
       "\n",
       "    .dataframe tbody tr th {\n",
       "        vertical-align: top;\n",
       "    }\n",
       "\n",
       "    .dataframe thead th {\n",
       "        text-align: right;\n",
       "    }\n",
       "</style>\n",
       "<table border=\"1\" class=\"dataframe\">\n",
       "  <thead>\n",
       "    <tr style=\"text-align: right;\">\n",
       "      <th></th>\n",
       "      <th>popularity</th>\n",
       "      <th>budget</th>\n",
       "      <th>revenue</th>\n",
       "      <th>original_title</th>\n",
       "      <th>cast</th>\n",
       "      <th>director</th>\n",
       "      <th>runtime</th>\n",
       "      <th>genres</th>\n",
       "      <th>production_companies</th>\n",
       "      <th>release_date</th>\n",
       "      <th>vote_count</th>\n",
       "      <th>ratings</th>\n",
       "      <th>release_year</th>\n",
       "      <th>budget_adj</th>\n",
       "      <th>revenue_adj</th>\n",
       "      <th>profit</th>\n",
       "    </tr>\n",
       "  </thead>\n",
       "  <tbody>\n",
       "    <tr>\n",
       "      <th>155</th>\n",
       "      <td>1.007054</td>\n",
       "      <td>11000000</td>\n",
       "      <td>27391084</td>\n",
       "      <td>Irrational Man</td>\n",
       "      <td>Emma Stone|Joaquin Phoenix|Jamie Blackley|Park...</td>\n",
       "      <td>Woody Allen</td>\n",
       "      <td>95</td>\n",
       "      <td>Mystery|Drama</td>\n",
       "      <td>Sony Pictures|Gravier Productions</td>\n",
       "      <td>7/17/15</td>\n",
       "      <td>319</td>\n",
       "      <td>6.1</td>\n",
       "      <td>2015</td>\n",
       "      <td>1.012000e+07</td>\n",
       "      <td>2.519979e+07</td>\n",
       "      <td>1.507979e+07</td>\n",
       "    </tr>\n",
       "    <tr>\n",
       "      <th>790</th>\n",
       "      <td>0.889247</td>\n",
       "      <td>0</td>\n",
       "      <td>32339326</td>\n",
       "      <td>Magic in the Moonlight</td>\n",
       "      <td>Colin Firth|Emma Stone|Hamish Linklater|Marcia...</td>\n",
       "      <td>Woody Allen</td>\n",
       "      <td>97</td>\n",
       "      <td>Comedy|Drama|Romance</td>\n",
       "      <td>Perdido Productions|Harbor Picture Company</td>\n",
       "      <td>7/25/14</td>\n",
       "      <td>464</td>\n",
       "      <td>6.3</td>\n",
       "      <td>2014</td>\n",
       "      <td>0.000000e+00</td>\n",
       "      <td>2.978746e+07</td>\n",
       "      <td>2.978746e+07</td>\n",
       "    </tr>\n",
       "    <tr>\n",
       "      <th>1332</th>\n",
       "      <td>1.179653</td>\n",
       "      <td>4000000</td>\n",
       "      <td>38251425</td>\n",
       "      <td>Annie Hall</td>\n",
       "      <td>Woody Allen|Diane Keaton|Tony Roberts|Carol Ka...</td>\n",
       "      <td>Woody Allen</td>\n",
       "      <td>93</td>\n",
       "      <td>Comedy|Drama|Romance</td>\n",
       "      <td>United Artists</td>\n",
       "      <td>4/19/77</td>\n",
       "      <td>493</td>\n",
       "      <td>7.6</td>\n",
       "      <td>1977</td>\n",
       "      <td>1.439112e+07</td>\n",
       "      <td>1.376203e+08</td>\n",
       "      <td>1.232291e+08</td>\n",
       "    </tr>\n",
       "    <tr>\n",
       "      <th>1489</th>\n",
       "      <td>0.804857</td>\n",
       "      <td>15000000</td>\n",
       "      <td>0</td>\n",
       "      <td>Whatever Works</td>\n",
       "      <td>Larry David|Evan Rachel Wood|Adam Brooks|Micha...</td>\n",
       "      <td>Woody Allen</td>\n",
       "      <td>92</td>\n",
       "      <td>Comedy|Romance</td>\n",
       "      <td>Sony Pictures Classics|Wild Bunch|Gravier Prod...</td>\n",
       "      <td>6/19/09</td>\n",
       "      <td>174</td>\n",
       "      <td>6.7</td>\n",
       "      <td>2009</td>\n",
       "      <td>1.524601e+07</td>\n",
       "      <td>0.000000e+00</td>\n",
       "      <td>-1.524601e+07</td>\n",
       "    </tr>\n",
       "    <tr>\n",
       "      <th>2126</th>\n",
       "      <td>0.493121</td>\n",
       "      <td>22000000</td>\n",
       "      <td>0</td>\n",
       "      <td>You Will Meet a Tall Dark Stranger</td>\n",
       "      <td>Naomi Watts|Josh Brolin|Antonio Banderas|Ewen ...</td>\n",
       "      <td>Woody Allen</td>\n",
       "      <td>98</td>\n",
       "      <td>Comedy|Drama|Romance</td>\n",
       "      <td>Antena 3 Films</td>\n",
       "      <td>5/23/10</td>\n",
       "      <td>131</td>\n",
       "      <td>5.8</td>\n",
       "      <td>2010</td>\n",
       "      <td>2.200000e+07</td>\n",
       "      <td>0.000000e+00</td>\n",
       "      <td>-2.200000e+07</td>\n",
       "    </tr>\n",
       "    <tr>\n",
       "      <th>2551</th>\n",
       "      <td>0.281948</td>\n",
       "      <td>0</td>\n",
       "      <td>0</td>\n",
       "      <td>Sweet and Lowdown</td>\n",
       "      <td>Woody Allen|Ben Duncan|Daniel Okrent|Dan Moran...</td>\n",
       "      <td>Woody Allen</td>\n",
       "      <td>95</td>\n",
       "      <td>Comedy|Drama</td>\n",
       "      <td>Sweetland Films|Magnolia Productions</td>\n",
       "      <td>12/3/99</td>\n",
       "      <td>48</td>\n",
       "      <td>6.5</td>\n",
       "      <td>1999</td>\n",
       "      <td>0.000000e+00</td>\n",
       "      <td>0.000000e+00</td>\n",
       "      <td>0.000000e+00</td>\n",
       "    </tr>\n",
       "    <tr>\n",
       "      <th>2744</th>\n",
       "      <td>0.446532</td>\n",
       "      <td>0</td>\n",
       "      <td>0</td>\n",
       "      <td>The Curse of the Jade Scorpion</td>\n",
       "      <td>Woody Allen|Helen Hunt|John Tormey|John Schuck...</td>\n",
       "      <td>Woody Allen</td>\n",
       "      <td>103</td>\n",
       "      <td>Comedy|Crime|Mystery|Romance|Thriller</td>\n",
       "      <td>DreamWorks SKG|Gravier Productions</td>\n",
       "      <td>8/5/01</td>\n",
       "      <td>77</td>\n",
       "      <td>6.1</td>\n",
       "      <td>2001</td>\n",
       "      <td>0.000000e+00</td>\n",
       "      <td>0.000000e+00</td>\n",
       "      <td>0.000000e+00</td>\n",
       "    </tr>\n",
       "    <tr>\n",
       "      <th>2964</th>\n",
       "      <td>0.866771</td>\n",
       "      <td>15000000</td>\n",
       "      <td>96408652</td>\n",
       "      <td>Vicky Cristina Barcelona</td>\n",
       "      <td>Scarlett Johansson|Rebecca Hall|Javier Bardem|...</td>\n",
       "      <td>Woody Allen</td>\n",
       "      <td>96</td>\n",
       "      <td>Drama|Romance</td>\n",
       "      <td>The Weinstein Company|Gravier Productions|Ante...</td>\n",
       "      <td>8/15/08</td>\n",
       "      <td>563</td>\n",
       "      <td>6.7</td>\n",
       "      <td>2008</td>\n",
       "      <td>1.519180e+07</td>\n",
       "      <td>9.764139e+07</td>\n",
       "      <td>8.244959e+07</td>\n",
       "    </tr>\n",
       "    <tr>\n",
       "      <th>3429</th>\n",
       "      <td>1.367727</td>\n",
       "      <td>30000000</td>\n",
       "      <td>151119219</td>\n",
       "      <td>Midnight in Paris</td>\n",
       "      <td>Owen Wilson|Rachel McAdams|Kurt Fuller|Mimi Ke...</td>\n",
       "      <td>Woody Allen</td>\n",
       "      <td>94</td>\n",
       "      <td>Fantasy|Comedy|Romance</td>\n",
       "      <td>Gravier Productions|TelevisiÃ³ de Catalunya (T...</td>\n",
       "      <td>5/11/11</td>\n",
       "      <td>1117</td>\n",
       "      <td>7.2</td>\n",
       "      <td>2011</td>\n",
       "      <td>2.908194e+07</td>\n",
       "      <td>1.464947e+08</td>\n",
       "      <td>1.174127e+08</td>\n",
       "    </tr>\n",
       "    <tr>\n",
       "      <th>4046</th>\n",
       "      <td>0.444428</td>\n",
       "      <td>16000000</td>\n",
       "      <td>0</td>\n",
       "      <td>Hollywood Ending</td>\n",
       "      <td>Woody Allen|George Hamilton|TÃ©a Leoni|Debra M...</td>\n",
       "      <td>Woody Allen</td>\n",
       "      <td>112</td>\n",
       "      <td>Comedy|Drama</td>\n",
       "      <td>DreamWorks SKG</td>\n",
       "      <td>5/3/02</td>\n",
       "      <td>54</td>\n",
       "      <td>6.2</td>\n",
       "      <td>2002</td>\n",
       "      <td>1.939618e+07</td>\n",
       "      <td>0.000000e+00</td>\n",
       "      <td>-1.939618e+07</td>\n",
       "    </tr>\n",
       "    <tr>\n",
       "      <th>4250</th>\n",
       "      <td>0.493082</td>\n",
       "      <td>0</td>\n",
       "      <td>0</td>\n",
       "      <td>Bullets Over Broadway</td>\n",
       "      <td>John Cusack|Dianne Wiest|Jennifer Tilly|Chazz ...</td>\n",
       "      <td>Woody Allen</td>\n",
       "      <td>98</td>\n",
       "      <td>Action|Comedy|Thriller</td>\n",
       "      <td>Miramax Films</td>\n",
       "      <td>10/14/94</td>\n",
       "      <td>59</td>\n",
       "      <td>6.7</td>\n",
       "      <td>1994</td>\n",
       "      <td>0.000000e+00</td>\n",
       "      <td>0.000000e+00</td>\n",
       "      <td>0.000000e+00</td>\n",
       "    </tr>\n",
       "    <tr>\n",
       "      <th>4493</th>\n",
       "      <td>0.714232</td>\n",
       "      <td>17000000</td>\n",
       "      <td>73244881</td>\n",
       "      <td>To Rome with Love</td>\n",
       "      <td>Ellen Page|Woody Allen|Jesse Eisenberg|PenÃ©lo...</td>\n",
       "      <td>Woody Allen</td>\n",
       "      <td>111</td>\n",
       "      <td>Romance|Comedy</td>\n",
       "      <td>Gravier Productions|Medusa Film|Mediapro|Perdi...</td>\n",
       "      <td>4/20/12</td>\n",
       "      <td>298</td>\n",
       "      <td>5.5</td>\n",
       "      <td>2012</td>\n",
       "      <td>1.614565e+07</td>\n",
       "      <td>6.956391e+07</td>\n",
       "      <td>5.341825e+07</td>\n",
       "    </tr>\n",
       "    <tr>\n",
       "      <th>5079</th>\n",
       "      <td>0.427767</td>\n",
       "      <td>0</td>\n",
       "      <td>0</td>\n",
       "      <td>Anything Else</td>\n",
       "      <td>Woody Allen|Jason Biggs|Christina Ricci|Stocka...</td>\n",
       "      <td>Woody Allen</td>\n",
       "      <td>108</td>\n",
       "      <td>Comedy|Romance</td>\n",
       "      <td>DreamWorks SKG|Granada Film Productions|Perdid...</td>\n",
       "      <td>8/27/03</td>\n",
       "      <td>70</td>\n",
       "      <td>6.1</td>\n",
       "      <td>2003</td>\n",
       "      <td>0.000000e+00</td>\n",
       "      <td>0.000000e+00</td>\n",
       "      <td>0.000000e+00</td>\n",
       "    </tr>\n",
       "    <tr>\n",
       "      <th>5310</th>\n",
       "      <td>0.567760</td>\n",
       "      <td>0</td>\n",
       "      <td>0</td>\n",
       "      <td>Deconstructing Harry</td>\n",
       "      <td>Woody Allen|Kirstie Alley|Billy Crystal|Judy D...</td>\n",
       "      <td>Woody Allen</td>\n",
       "      <td>96</td>\n",
       "      <td>Comedy|Drama</td>\n",
       "      <td>New Line Cinema</td>\n",
       "      <td>8/26/97</td>\n",
       "      <td>73</td>\n",
       "      <td>6.9</td>\n",
       "      <td>1997</td>\n",
       "      <td>0.000000e+00</td>\n",
       "      <td>0.000000e+00</td>\n",
       "      <td>0.000000e+00</td>\n",
       "    </tr>\n",
       "    <tr>\n",
       "      <th>5551</th>\n",
       "      <td>0.926390</td>\n",
       "      <td>18000000</td>\n",
       "      <td>97505481</td>\n",
       "      <td>Blue Jasmine</td>\n",
       "      <td>Cate Blanchett|Alec Baldwin|Sally Hawkins|Bobb...</td>\n",
       "      <td>Woody Allen</td>\n",
       "      <td>98</td>\n",
       "      <td>Comedy|Drama</td>\n",
       "      <td>Perdido Productions</td>\n",
       "      <td>7/25/13</td>\n",
       "      <td>680</td>\n",
       "      <td>6.9</td>\n",
       "      <td>2013</td>\n",
       "      <td>1.684860e+07</td>\n",
       "      <td>9.126838e+07</td>\n",
       "      <td>7.441978e+07</td>\n",
       "    </tr>\n",
       "    <tr>\n",
       "      <th>6116</th>\n",
       "      <td>0.617698</td>\n",
       "      <td>15000000</td>\n",
       "      <td>10631333</td>\n",
       "      <td>The Purple Rose of Cairo</td>\n",
       "      <td>Mia Farrow|Jeff Daniels|Danny Aiello|Irving Me...</td>\n",
       "      <td>Woody Allen</td>\n",
       "      <td>82</td>\n",
       "      <td>Fantasy|Comedy|Romance</td>\n",
       "      <td>Orion Pictures</td>\n",
       "      <td>3/1/85</td>\n",
       "      <td>99</td>\n",
       "      <td>7.0</td>\n",
       "      <td>1985</td>\n",
       "      <td>3.040749e+07</td>\n",
       "      <td>2.155148e+07</td>\n",
       "      <td>-8.856013e+06</td>\n",
       "    </tr>\n",
       "    <tr>\n",
       "      <th>6248</th>\n",
       "      <td>1.051177</td>\n",
       "      <td>15000000</td>\n",
       "      <td>85306374</td>\n",
       "      <td>Match Point</td>\n",
       "      <td>Jonathan Rhys Meyers|Scarlett Johansson|Emily ...</td>\n",
       "      <td>Woody Allen</td>\n",
       "      <td>124</td>\n",
       "      <td>Drama|Thriller|Crime|Romance</td>\n",
       "      <td>DreamWorks</td>\n",
       "      <td>5/12/05</td>\n",
       "      <td>620</td>\n",
       "      <td>7.1</td>\n",
       "      <td>2005</td>\n",
       "      <td>1.674845e+07</td>\n",
       "      <td>9.524997e+07</td>\n",
       "      <td>7.850152e+07</td>\n",
       "    </tr>\n",
       "    <tr>\n",
       "      <th>6721</th>\n",
       "      <td>0.489898</td>\n",
       "      <td>4000000</td>\n",
       "      <td>31584901</td>\n",
       "      <td>Scoop</td>\n",
       "      <td>Scarlett Johansson|Hugh Jackman|Woody Allen|Ia...</td>\n",
       "      <td>Woody Allen</td>\n",
       "      <td>96</td>\n",
       "      <td>Comedy|Mystery</td>\n",
       "      <td>BBC Films|Ingenious Film Partners|Ingenious Me...</td>\n",
       "      <td>7/27/06</td>\n",
       "      <td>208</td>\n",
       "      <td>6.2</td>\n",
       "      <td>2006</td>\n",
       "      <td>4.326677e+06</td>\n",
       "      <td>3.416441e+07</td>\n",
       "      <td>2.983774e+07</td>\n",
       "    </tr>\n",
       "    <tr>\n",
       "      <th>7121</th>\n",
       "      <td>0.425665</td>\n",
       "      <td>0</td>\n",
       "      <td>20085825</td>\n",
       "      <td>Melinda and Melinda</td>\n",
       "      <td>Chiwetel Ejiofor|Will Ferrell|Jonny Lee Miller...</td>\n",
       "      <td>Woody Allen</td>\n",
       "      <td>100</td>\n",
       "      <td>Comedy|Drama|Romance</td>\n",
       "      <td>Fox Searchlight Pictures|Gravier Productions</td>\n",
       "      <td>10/29/04</td>\n",
       "      <td>49</td>\n",
       "      <td>5.8</td>\n",
       "      <td>2004</td>\n",
       "      <td>0.000000e+00</td>\n",
       "      <td>2.318799e+07</td>\n",
       "      <td>2.318799e+07</td>\n",
       "    </tr>\n",
       "    <tr>\n",
       "      <th>7278</th>\n",
       "      <td>0.400301</td>\n",
       "      <td>2000000</td>\n",
       "      <td>18016290</td>\n",
       "      <td>Everything You Always Wanted to Know About Sex...</td>\n",
       "      <td>Woody Allen|John Carradine|Lou Jacobi|Louise L...</td>\n",
       "      <td>Woody Allen</td>\n",
       "      <td>88</td>\n",
       "      <td>Comedy</td>\n",
       "      <td>United Artists</td>\n",
       "      <td>8/6/72</td>\n",
       "      <td>93</td>\n",
       "      <td>6.5</td>\n",
       "      <td>1972</td>\n",
       "      <td>1.042912e+07</td>\n",
       "      <td>9.394704e+07</td>\n",
       "      <td>8.351792e+07</td>\n",
       "    </tr>\n",
       "    <tr>\n",
       "      <th>7355</th>\n",
       "      <td>0.247924</td>\n",
       "      <td>10000000</td>\n",
       "      <td>10389003</td>\n",
       "      <td>Stardust Memories</td>\n",
       "      <td>Woody Allen|Charlotte Rampling|Jessica Harper|...</td>\n",
       "      <td>Woody Allen</td>\n",
       "      <td>89</td>\n",
       "      <td>Comedy|Drama|Romance</td>\n",
       "      <td>United Artists|Rollins-Joffe Productions</td>\n",
       "      <td>9/26/80</td>\n",
       "      <td>41</td>\n",
       "      <td>6.3</td>\n",
       "      <td>1980</td>\n",
       "      <td>2.646037e+07</td>\n",
       "      <td>2.748968e+07</td>\n",
       "      <td>1.029316e+06</td>\n",
       "    </tr>\n",
       "    <tr>\n",
       "      <th>7553</th>\n",
       "      <td>0.499794</td>\n",
       "      <td>0</td>\n",
       "      <td>0</td>\n",
       "      <td>Cassandra's Dream</td>\n",
       "      <td>Colin Farrell|Ewan McGregor|Hayley Atwell|Sall...</td>\n",
       "      <td>Woody Allen</td>\n",
       "      <td>108</td>\n",
       "      <td>Crime|Drama|Thriller</td>\n",
       "      <td>Virtual Studios|Wild Bunch|Iberville Productions</td>\n",
       "      <td>6/18/07</td>\n",
       "      <td>108</td>\n",
       "      <td>6.1</td>\n",
       "      <td>2007</td>\n",
       "      <td>0.000000e+00</td>\n",
       "      <td>0.000000e+00</td>\n",
       "      <td>0.000000e+00</td>\n",
       "    </tr>\n",
       "    <tr>\n",
       "      <th>7835</th>\n",
       "      <td>0.961390</td>\n",
       "      <td>0</td>\n",
       "      <td>39946780</td>\n",
       "      <td>Manhattan</td>\n",
       "      <td>Woody Allen|Diane Keaton|Michael Murphy|Mariel...</td>\n",
       "      <td>Woody Allen</td>\n",
       "      <td>96</td>\n",
       "      <td>Comedy|Drama|Romance</td>\n",
       "      <td>Jack Rollins &amp; Charles H. Joffe Productions</td>\n",
       "      <td>4/25/79</td>\n",
       "      <td>310</td>\n",
       "      <td>7.7</td>\n",
       "      <td>1979</td>\n",
       "      <td>0.000000e+00</td>\n",
       "      <td>1.200223e+08</td>\n",
       "      <td>1.200223e+08</td>\n",
       "    </tr>\n",
       "    <tr>\n",
       "      <th>7978</th>\n",
       "      <td>0.133990</td>\n",
       "      <td>8000000</td>\n",
       "      <td>10600497</td>\n",
       "      <td>Broadway Danny Rose</td>\n",
       "      <td>Woody Allen|Mia Farrow|Nick Apollo Forte|Craig...</td>\n",
       "      <td>Woody Allen</td>\n",
       "      <td>84</td>\n",
       "      <td>Comedy</td>\n",
       "      <td>Orion Pictures Corporation</td>\n",
       "      <td>1/27/84</td>\n",
       "      <td>41</td>\n",
       "      <td>6.6</td>\n",
       "      <td>1984</td>\n",
       "      <td>1.679234e+07</td>\n",
       "      <td>2.225089e+07</td>\n",
       "      <td>5.458553e+06</td>\n",
       "    </tr>\n",
       "    <tr>\n",
       "      <th>8020</th>\n",
       "      <td>0.388667</td>\n",
       "      <td>0</td>\n",
       "      <td>11798616</td>\n",
       "      <td>Zelig</td>\n",
       "      <td>Woody Allen|Mia Farrow|John Buckwalter|Patrick...</td>\n",
       "      <td>Woody Allen</td>\n",
       "      <td>79</td>\n",
       "      <td>Comedy</td>\n",
       "      <td>Orion Pictures</td>\n",
       "      <td>7/15/83</td>\n",
       "      <td>73</td>\n",
       "      <td>7.1</td>\n",
       "      <td>1983</td>\n",
       "      <td>0.000000e+00</td>\n",
       "      <td>2.583085e+07</td>\n",
       "      <td>2.583085e+07</td>\n",
       "    </tr>\n",
       "    <tr>\n",
       "      <th>8119</th>\n",
       "      <td>0.773291</td>\n",
       "      <td>15000000</td>\n",
       "      <td>6700000</td>\n",
       "      <td>Mighty Aphrodite</td>\n",
       "      <td>Woody Allen|Mira Sorvino|Helena Bonham Carter|...</td>\n",
       "      <td>Woody Allen</td>\n",
       "      <td>95</td>\n",
       "      <td>Comedy|Romance</td>\n",
       "      <td>Miramax Films|Magnolia Pictures</td>\n",
       "      <td>9/13/95</td>\n",
       "      <td>61</td>\n",
       "      <td>6.5</td>\n",
       "      <td>1995</td>\n",
       "      <td>2.146450e+07</td>\n",
       "      <td>9.587478e+06</td>\n",
       "      <td>-1.187702e+07</td>\n",
       "    </tr>\n",
       "    <tr>\n",
       "      <th>8354</th>\n",
       "      <td>0.466927</td>\n",
       "      <td>0</td>\n",
       "      <td>0</td>\n",
       "      <td>Husbands and Wives</td>\n",
       "      <td>Woody Allen|Mia Farrow|Judy Davis|Sydney Polla...</td>\n",
       "      <td>Woody Allen</td>\n",
       "      <td>108</td>\n",
       "      <td>Romance|Comedy|Drama</td>\n",
       "      <td>TriStar Pictures</td>\n",
       "      <td>9/18/92</td>\n",
       "      <td>38</td>\n",
       "      <td>5.9</td>\n",
       "      <td>1992</td>\n",
       "      <td>0.000000e+00</td>\n",
       "      <td>0.000000e+00</td>\n",
       "      <td>0.000000e+00</td>\n",
       "    </tr>\n",
       "    <tr>\n",
       "      <th>8505</th>\n",
       "      <td>0.737519</td>\n",
       "      <td>20000000</td>\n",
       "      <td>0</td>\n",
       "      <td>Everyone Says I Love You</td>\n",
       "      <td>Drew Barrymore|Diva Gray|Natasha Lyonne|Edward...</td>\n",
       "      <td>Woody Allen</td>\n",
       "      <td>101</td>\n",
       "      <td>Drama|Comedy|Romance</td>\n",
       "      <td>Miramax Films</td>\n",
       "      <td>12/6/96</td>\n",
       "      <td>69</td>\n",
       "      <td>6.3</td>\n",
       "      <td>1996</td>\n",
       "      <td>2.780433e+07</td>\n",
       "      <td>0.000000e+00</td>\n",
       "      <td>-2.780433e+07</td>\n",
       "    </tr>\n",
       "    <tr>\n",
       "      <th>8741</th>\n",
       "      <td>0.498771</td>\n",
       "      <td>0</td>\n",
       "      <td>0</td>\n",
       "      <td>Small Time Crooks</td>\n",
       "      <td>Woody Allen|Carolyn Saxon|Tracey Ullman|Michae...</td>\n",
       "      <td>Woody Allen</td>\n",
       "      <td>94</td>\n",
       "      <td>Action|Comedy|Crime</td>\n",
       "      <td>DreamWorks SKG</td>\n",
       "      <td>5/19/00</td>\n",
       "      <td>78</td>\n",
       "      <td>6.2</td>\n",
       "      <td>2000</td>\n",
       "      <td>0.000000e+00</td>\n",
       "      <td>0.000000e+00</td>\n",
       "      <td>0.000000e+00</td>\n",
       "    </tr>\n",
       "    <tr>\n",
       "      <th>8917</th>\n",
       "      <td>0.481796</td>\n",
       "      <td>0</td>\n",
       "      <td>0</td>\n",
       "      <td>A Midsummer Night's Sex Comedy</td>\n",
       "      <td>Woody Allen|Mia Farrow|Julie Hagerty|Tony Robe...</td>\n",
       "      <td>Woody Allen</td>\n",
       "      <td>88</td>\n",
       "      <td>Comedy|Romance</td>\n",
       "      <td>Orion Pictures</td>\n",
       "      <td>7/16/82</td>\n",
       "      <td>41</td>\n",
       "      <td>5.9</td>\n",
       "      <td>1982</td>\n",
       "      <td>0.000000e+00</td>\n",
       "      <td>0.000000e+00</td>\n",
       "      <td>0.000000e+00</td>\n",
       "    </tr>\n",
       "    <tr>\n",
       "      <th>9075</th>\n",
       "      <td>0.419482</td>\n",
       "      <td>0</td>\n",
       "      <td>0</td>\n",
       "      <td>Celebrity</td>\n",
       "      <td>Kenneth Branagh|Judy Davis|Joe Mantegna|Leonar...</td>\n",
       "      <td>Woody Allen</td>\n",
       "      <td>113</td>\n",
       "      <td>Drama|Comedy</td>\n",
       "      <td>Sweetland Films|Magnolia Productions</td>\n",
       "      <td>9/7/98</td>\n",
       "      <td>53</td>\n",
       "      <td>5.9</td>\n",
       "      <td>1998</td>\n",
       "      <td>0.000000e+00</td>\n",
       "      <td>0.000000e+00</td>\n",
       "      <td>0.000000e+00</td>\n",
       "    </tr>\n",
       "    <tr>\n",
       "      <th>9238</th>\n",
       "      <td>0.415913</td>\n",
       "      <td>19000000</td>\n",
       "      <td>18254702</td>\n",
       "      <td>Crimes and Misdemeanors</td>\n",
       "      <td>Woody Allen|Martin Landau|Anjelica Huston|Joan...</td>\n",
       "      <td>Woody Allen</td>\n",
       "      <td>104</td>\n",
       "      <td>Comedy|Drama</td>\n",
       "      <td>Orion Pictures|Jack Rollins &amp; Charles H. Joffe...</td>\n",
       "      <td>10/13/89</td>\n",
       "      <td>86</td>\n",
       "      <td>6.9</td>\n",
       "      <td>1989</td>\n",
       "      <td>3.342071e+07</td>\n",
       "      <td>3.210975e+07</td>\n",
       "      <td>-1.310968e+06</td>\n",
       "    </tr>\n",
       "    <tr>\n",
       "      <th>9372</th>\n",
       "      <td>0.267440</td>\n",
       "      <td>14000000</td>\n",
       "      <td>2735731</td>\n",
       "      <td>Shadows and Fog</td>\n",
       "      <td>Woody Allen|Kathy Bates|John Cusack|Mia Farrow...</td>\n",
       "      <td>Woody Allen</td>\n",
       "      <td>85</td>\n",
       "      <td>Thriller|Comedy</td>\n",
       "      <td>Orion Pictures</td>\n",
       "      <td>12/5/91</td>\n",
       "      <td>26</td>\n",
       "      <td>6.0</td>\n",
       "      <td>1991</td>\n",
       "      <td>2.241530e+07</td>\n",
       "      <td>4.380159e+06</td>\n",
       "      <td>-1.803514e+07</td>\n",
       "    </tr>\n",
       "    <tr>\n",
       "      <th>9640</th>\n",
       "      <td>0.420500</td>\n",
       "      <td>16000000</td>\n",
       "      <td>0</td>\n",
       "      <td>Radio Days</td>\n",
       "      <td>Woody Allen|Mia Farrow|Jeff Daniels|Larry Davi...</td>\n",
       "      <td>Woody Allen</td>\n",
       "      <td>90</td>\n",
       "      <td>Comedy|Drama</td>\n",
       "      <td>Orion Pictures</td>\n",
       "      <td>1/30/87</td>\n",
       "      <td>48</td>\n",
       "      <td>6.2</td>\n",
       "      <td>1987</td>\n",
       "      <td>3.070529e+07</td>\n",
       "      <td>0.000000e+00</td>\n",
       "      <td>-3.070529e+07</td>\n",
       "    </tr>\n",
       "    <tr>\n",
       "      <th>9817</th>\n",
       "      <td>0.491393</td>\n",
       "      <td>0</td>\n",
       "      <td>0</td>\n",
       "      <td>Love and Death</td>\n",
       "      <td>Woody Allen|Diane Keaton|Georges Adet|Frank Ad...</td>\n",
       "      <td>Woody Allen</td>\n",
       "      <td>85</td>\n",
       "      <td>Comedy|History</td>\n",
       "      <td>United Artists</td>\n",
       "      <td>6/10/75</td>\n",
       "      <td>66</td>\n",
       "      <td>7.1</td>\n",
       "      <td>1975</td>\n",
       "      <td>0.000000e+00</td>\n",
       "      <td>0.000000e+00</td>\n",
       "      <td>0.000000e+00</td>\n",
       "    </tr>\n",
       "    <tr>\n",
       "      <th>9941</th>\n",
       "      <td>0.448675</td>\n",
       "      <td>2000000</td>\n",
       "      <td>0</td>\n",
       "      <td>Bananas</td>\n",
       "      <td>Woody Allen|Louise Lasser|Carlos MontalbÃ¡n|Na...</td>\n",
       "      <td>Woody Allen</td>\n",
       "      <td>82</td>\n",
       "      <td>Comedy</td>\n",
       "      <td>United Artists|Jack Rollins &amp; Charles H. Joffe...</td>\n",
       "      <td>4/28/71</td>\n",
       "      <td>76</td>\n",
       "      <td>6.5</td>\n",
       "      <td>1971</td>\n",
       "      <td>1.077039e+07</td>\n",
       "      <td>0.000000e+00</td>\n",
       "      <td>-1.077039e+07</td>\n",
       "    </tr>\n",
       "    <tr>\n",
       "      <th>10030</th>\n",
       "      <td>0.420512</td>\n",
       "      <td>0</td>\n",
       "      <td>0</td>\n",
       "      <td>Alice</td>\n",
       "      <td>Mia Farrow|William Hurt|Joe Mantegna|Alec Bald...</td>\n",
       "      <td>Woody Allen</td>\n",
       "      <td>102</td>\n",
       "      <td>Comedy|Drama|Romance</td>\n",
       "      <td>Orion Pictures</td>\n",
       "      <td>12/25/90</td>\n",
       "      <td>22</td>\n",
       "      <td>5.9</td>\n",
       "      <td>1990</td>\n",
       "      <td>0.000000e+00</td>\n",
       "      <td>0.000000e+00</td>\n",
       "      <td>0.000000e+00</td>\n",
       "    </tr>\n",
       "    <tr>\n",
       "      <th>10257</th>\n",
       "      <td>0.755398</td>\n",
       "      <td>13500000</td>\n",
       "      <td>11285588</td>\n",
       "      <td>Manhattan Murder Mystery</td>\n",
       "      <td>Woody Allen|Diane Keaton|Jerry Adler|Alan Alda...</td>\n",
       "      <td>Woody Allen</td>\n",
       "      <td>104</td>\n",
       "      <td>Comedy|Crime|Mystery|Thriller</td>\n",
       "      <td>TriStar Pictures</td>\n",
       "      <td>8/18/93</td>\n",
       "      <td>69</td>\n",
       "      <td>6.9</td>\n",
       "      <td>1993</td>\n",
       "      <td>2.037784e+07</td>\n",
       "      <td>1.703526e+07</td>\n",
       "      <td>-3.342588e+06</td>\n",
       "    </tr>\n",
       "    <tr>\n",
       "      <th>10519</th>\n",
       "      <td>0.476819</td>\n",
       "      <td>6400000</td>\n",
       "      <td>40084041</td>\n",
       "      <td>Hannah and Her Sisters</td>\n",
       "      <td>Woody Allen|Michael Caine|Mia Farrow|Carrie Fi...</td>\n",
       "      <td>Woody Allen</td>\n",
       "      <td>107</td>\n",
       "      <td>Comedy|Drama</td>\n",
       "      <td>Orion Pictures</td>\n",
       "      <td>2/7/86</td>\n",
       "      <td>102</td>\n",
       "      <td>7.3</td>\n",
       "      <td>1986</td>\n",
       "      <td>1.273220e+07</td>\n",
       "      <td>7.974345e+07</td>\n",
       "      <td>6.701125e+07</td>\n",
       "    </tr>\n",
       "    <tr>\n",
       "      <th>10609</th>\n",
       "      <td>0.568400</td>\n",
       "      <td>2000000</td>\n",
       "      <td>18344729</td>\n",
       "      <td>Sleeper</td>\n",
       "      <td>Woody Allen|Diane Keaton|John Beck|Mary Gregor...</td>\n",
       "      <td>Woody Allen</td>\n",
       "      <td>89</td>\n",
       "      <td>Science Fiction|Comedy|Romance</td>\n",
       "      <td>Rollins-Joffe Productions</td>\n",
       "      <td>12/17/73</td>\n",
       "      <td>93</td>\n",
       "      <td>6.9</td>\n",
       "      <td>1973</td>\n",
       "      <td>9.822319e+06</td>\n",
       "      <td>9.009389e+07</td>\n",
       "      <td>8.027157e+07</td>\n",
       "    </tr>\n",
       "    <tr>\n",
       "      <th>10729</th>\n",
       "      <td>0.589059</td>\n",
       "      <td>1500000</td>\n",
       "      <td>0</td>\n",
       "      <td>Take the Money and Run</td>\n",
       "      <td>Woody Allen|Janet Margolin|Marcel Hillaire|Jac...</td>\n",
       "      <td>Woody Allen</td>\n",
       "      <td>85</td>\n",
       "      <td>Comedy|Crime</td>\n",
       "      <td>Palomar Pictures|American Broadcasting Company...</td>\n",
       "      <td>8/18/69</td>\n",
       "      <td>77</td>\n",
       "      <td>6.9</td>\n",
       "      <td>1969</td>\n",
       "      <td>8.916396e+06</td>\n",
       "      <td>0.000000e+00</td>\n",
       "      <td>-8.916396e+06</td>\n",
       "    </tr>\n",
       "    <tr>\n",
       "      <th>10864</th>\n",
       "      <td>0.064317</td>\n",
       "      <td>0</td>\n",
       "      <td>0</td>\n",
       "      <td>What's Up, Tiger Lily?</td>\n",
       "      <td>Tatsuya Mihashi|Akiko Wakabayashi|Mie Hama|Joh...</td>\n",
       "      <td>Woody Allen</td>\n",
       "      <td>80</td>\n",
       "      <td>Action|Comedy</td>\n",
       "      <td>Benedict Pictures Corp.</td>\n",
       "      <td>11/2/66</td>\n",
       "      <td>22</td>\n",
       "      <td>5.4</td>\n",
       "      <td>1966</td>\n",
       "      <td>0.000000e+00</td>\n",
       "      <td>0.000000e+00</td>\n",
       "      <td>0.000000e+00</td>\n",
       "    </tr>\n",
       "  </tbody>\n",
       "</table>\n",
       "</div>"
      ],
      "text/plain": [
       "       popularity    budget    revenue  \\\n",
       "155      1.007054  11000000   27391084   \n",
       "790      0.889247         0   32339326   \n",
       "1332     1.179653   4000000   38251425   \n",
       "1489     0.804857  15000000          0   \n",
       "2126     0.493121  22000000          0   \n",
       "2551     0.281948         0          0   \n",
       "2744     0.446532         0          0   \n",
       "2964     0.866771  15000000   96408652   \n",
       "3429     1.367727  30000000  151119219   \n",
       "4046     0.444428  16000000          0   \n",
       "4250     0.493082         0          0   \n",
       "4493     0.714232  17000000   73244881   \n",
       "5079     0.427767         0          0   \n",
       "5310     0.567760         0          0   \n",
       "5551     0.926390  18000000   97505481   \n",
       "6116     0.617698  15000000   10631333   \n",
       "6248     1.051177  15000000   85306374   \n",
       "6721     0.489898   4000000   31584901   \n",
       "7121     0.425665         0   20085825   \n",
       "7278     0.400301   2000000   18016290   \n",
       "7355     0.247924  10000000   10389003   \n",
       "7553     0.499794         0          0   \n",
       "7835     0.961390         0   39946780   \n",
       "7978     0.133990   8000000   10600497   \n",
       "8020     0.388667         0   11798616   \n",
       "8119     0.773291  15000000    6700000   \n",
       "8354     0.466927         0          0   \n",
       "8505     0.737519  20000000          0   \n",
       "8741     0.498771         0          0   \n",
       "8917     0.481796         0          0   \n",
       "9075     0.419482         0          0   \n",
       "9238     0.415913  19000000   18254702   \n",
       "9372     0.267440  14000000    2735731   \n",
       "9640     0.420500  16000000          0   \n",
       "9817     0.491393         0          0   \n",
       "9941     0.448675   2000000          0   \n",
       "10030    0.420512         0          0   \n",
       "10257    0.755398  13500000   11285588   \n",
       "10519    0.476819   6400000   40084041   \n",
       "10609    0.568400   2000000   18344729   \n",
       "10729    0.589059   1500000          0   \n",
       "10864    0.064317         0          0   \n",
       "\n",
       "                                          original_title  \\\n",
       "155                                       Irrational Man   \n",
       "790                               Magic in the Moonlight   \n",
       "1332                                          Annie Hall   \n",
       "1489                                      Whatever Works   \n",
       "2126                  You Will Meet a Tall Dark Stranger   \n",
       "2551                                   Sweet and Lowdown   \n",
       "2744                      The Curse of the Jade Scorpion   \n",
       "2964                            Vicky Cristina Barcelona   \n",
       "3429                                   Midnight in Paris   \n",
       "4046                                    Hollywood Ending   \n",
       "4250                               Bullets Over Broadway   \n",
       "4493                                   To Rome with Love   \n",
       "5079                                       Anything Else   \n",
       "5310                                Deconstructing Harry   \n",
       "5551                                        Blue Jasmine   \n",
       "6116                            The Purple Rose of Cairo   \n",
       "6248                                         Match Point   \n",
       "6721                                               Scoop   \n",
       "7121                                 Melinda and Melinda   \n",
       "7278   Everything You Always Wanted to Know About Sex...   \n",
       "7355                                   Stardust Memories   \n",
       "7553                                   Cassandra's Dream   \n",
       "7835                                           Manhattan   \n",
       "7978                                 Broadway Danny Rose   \n",
       "8020                                               Zelig   \n",
       "8119                                    Mighty Aphrodite   \n",
       "8354                                  Husbands and Wives   \n",
       "8505                            Everyone Says I Love You   \n",
       "8741                                   Small Time Crooks   \n",
       "8917                      A Midsummer Night's Sex Comedy   \n",
       "9075                                           Celebrity   \n",
       "9238                             Crimes and Misdemeanors   \n",
       "9372                                     Shadows and Fog   \n",
       "9640                                          Radio Days   \n",
       "9817                                      Love and Death   \n",
       "9941                                             Bananas   \n",
       "10030                                              Alice   \n",
       "10257                           Manhattan Murder Mystery   \n",
       "10519                             Hannah and Her Sisters   \n",
       "10609                                            Sleeper   \n",
       "10729                             Take the Money and Run   \n",
       "10864                             What's Up, Tiger Lily?   \n",
       "\n",
       "                                                    cast     director  \\\n",
       "155    Emma Stone|Joaquin Phoenix|Jamie Blackley|Park...  Woody Allen   \n",
       "790    Colin Firth|Emma Stone|Hamish Linklater|Marcia...  Woody Allen   \n",
       "1332   Woody Allen|Diane Keaton|Tony Roberts|Carol Ka...  Woody Allen   \n",
       "1489   Larry David|Evan Rachel Wood|Adam Brooks|Micha...  Woody Allen   \n",
       "2126   Naomi Watts|Josh Brolin|Antonio Banderas|Ewen ...  Woody Allen   \n",
       "2551   Woody Allen|Ben Duncan|Daniel Okrent|Dan Moran...  Woody Allen   \n",
       "2744   Woody Allen|Helen Hunt|John Tormey|John Schuck...  Woody Allen   \n",
       "2964   Scarlett Johansson|Rebecca Hall|Javier Bardem|...  Woody Allen   \n",
       "3429   Owen Wilson|Rachel McAdams|Kurt Fuller|Mimi Ke...  Woody Allen   \n",
       "4046   Woody Allen|George Hamilton|TÃ©a Leoni|Debra M...  Woody Allen   \n",
       "4250   John Cusack|Dianne Wiest|Jennifer Tilly|Chazz ...  Woody Allen   \n",
       "4493   Ellen Page|Woody Allen|Jesse Eisenberg|PenÃ©lo...  Woody Allen   \n",
       "5079   Woody Allen|Jason Biggs|Christina Ricci|Stocka...  Woody Allen   \n",
       "5310   Woody Allen|Kirstie Alley|Billy Crystal|Judy D...  Woody Allen   \n",
       "5551   Cate Blanchett|Alec Baldwin|Sally Hawkins|Bobb...  Woody Allen   \n",
       "6116   Mia Farrow|Jeff Daniels|Danny Aiello|Irving Me...  Woody Allen   \n",
       "6248   Jonathan Rhys Meyers|Scarlett Johansson|Emily ...  Woody Allen   \n",
       "6721   Scarlett Johansson|Hugh Jackman|Woody Allen|Ia...  Woody Allen   \n",
       "7121   Chiwetel Ejiofor|Will Ferrell|Jonny Lee Miller...  Woody Allen   \n",
       "7278   Woody Allen|John Carradine|Lou Jacobi|Louise L...  Woody Allen   \n",
       "7355   Woody Allen|Charlotte Rampling|Jessica Harper|...  Woody Allen   \n",
       "7553   Colin Farrell|Ewan McGregor|Hayley Atwell|Sall...  Woody Allen   \n",
       "7835   Woody Allen|Diane Keaton|Michael Murphy|Mariel...  Woody Allen   \n",
       "7978   Woody Allen|Mia Farrow|Nick Apollo Forte|Craig...  Woody Allen   \n",
       "8020   Woody Allen|Mia Farrow|John Buckwalter|Patrick...  Woody Allen   \n",
       "8119   Woody Allen|Mira Sorvino|Helena Bonham Carter|...  Woody Allen   \n",
       "8354   Woody Allen|Mia Farrow|Judy Davis|Sydney Polla...  Woody Allen   \n",
       "8505   Drew Barrymore|Diva Gray|Natasha Lyonne|Edward...  Woody Allen   \n",
       "8741   Woody Allen|Carolyn Saxon|Tracey Ullman|Michae...  Woody Allen   \n",
       "8917   Woody Allen|Mia Farrow|Julie Hagerty|Tony Robe...  Woody Allen   \n",
       "9075   Kenneth Branagh|Judy Davis|Joe Mantegna|Leonar...  Woody Allen   \n",
       "9238   Woody Allen|Martin Landau|Anjelica Huston|Joan...  Woody Allen   \n",
       "9372   Woody Allen|Kathy Bates|John Cusack|Mia Farrow...  Woody Allen   \n",
       "9640   Woody Allen|Mia Farrow|Jeff Daniels|Larry Davi...  Woody Allen   \n",
       "9817   Woody Allen|Diane Keaton|Georges Adet|Frank Ad...  Woody Allen   \n",
       "9941   Woody Allen|Louise Lasser|Carlos MontalbÃ¡n|Na...  Woody Allen   \n",
       "10030  Mia Farrow|William Hurt|Joe Mantegna|Alec Bald...  Woody Allen   \n",
       "10257  Woody Allen|Diane Keaton|Jerry Adler|Alan Alda...  Woody Allen   \n",
       "10519  Woody Allen|Michael Caine|Mia Farrow|Carrie Fi...  Woody Allen   \n",
       "10609  Woody Allen|Diane Keaton|John Beck|Mary Gregor...  Woody Allen   \n",
       "10729  Woody Allen|Janet Margolin|Marcel Hillaire|Jac...  Woody Allen   \n",
       "10864  Tatsuya Mihashi|Akiko Wakabayashi|Mie Hama|Joh...  Woody Allen   \n",
       "\n",
       "       runtime                                 genres  \\\n",
       "155         95                          Mystery|Drama   \n",
       "790         97                   Comedy|Drama|Romance   \n",
       "1332        93                   Comedy|Drama|Romance   \n",
       "1489        92                         Comedy|Romance   \n",
       "2126        98                   Comedy|Drama|Romance   \n",
       "2551        95                           Comedy|Drama   \n",
       "2744       103  Comedy|Crime|Mystery|Romance|Thriller   \n",
       "2964        96                          Drama|Romance   \n",
       "3429        94                 Fantasy|Comedy|Romance   \n",
       "4046       112                           Comedy|Drama   \n",
       "4250        98                 Action|Comedy|Thriller   \n",
       "4493       111                         Romance|Comedy   \n",
       "5079       108                         Comedy|Romance   \n",
       "5310        96                           Comedy|Drama   \n",
       "5551        98                           Comedy|Drama   \n",
       "6116        82                 Fantasy|Comedy|Romance   \n",
       "6248       124           Drama|Thriller|Crime|Romance   \n",
       "6721        96                         Comedy|Mystery   \n",
       "7121       100                   Comedy|Drama|Romance   \n",
       "7278        88                                 Comedy   \n",
       "7355        89                   Comedy|Drama|Romance   \n",
       "7553       108                   Crime|Drama|Thriller   \n",
       "7835        96                   Comedy|Drama|Romance   \n",
       "7978        84                                 Comedy   \n",
       "8020        79                                 Comedy   \n",
       "8119        95                         Comedy|Romance   \n",
       "8354       108                   Romance|Comedy|Drama   \n",
       "8505       101                   Drama|Comedy|Romance   \n",
       "8741        94                    Action|Comedy|Crime   \n",
       "8917        88                         Comedy|Romance   \n",
       "9075       113                           Drama|Comedy   \n",
       "9238       104                           Comedy|Drama   \n",
       "9372        85                        Thriller|Comedy   \n",
       "9640        90                           Comedy|Drama   \n",
       "9817        85                         Comedy|History   \n",
       "9941        82                                 Comedy   \n",
       "10030      102                   Comedy|Drama|Romance   \n",
       "10257      104          Comedy|Crime|Mystery|Thriller   \n",
       "10519      107                           Comedy|Drama   \n",
       "10609       89         Science Fiction|Comedy|Romance   \n",
       "10729       85                           Comedy|Crime   \n",
       "10864       80                          Action|Comedy   \n",
       "\n",
       "                                    production_companies release_date  \\\n",
       "155                    Sony Pictures|Gravier Productions      7/17/15   \n",
       "790           Perdido Productions|Harbor Picture Company      7/25/14   \n",
       "1332                                      United Artists      4/19/77   \n",
       "1489   Sony Pictures Classics|Wild Bunch|Gravier Prod...      6/19/09   \n",
       "2126                                      Antena 3 Films      5/23/10   \n",
       "2551                Sweetland Films|Magnolia Productions      12/3/99   \n",
       "2744                  DreamWorks SKG|Gravier Productions       8/5/01   \n",
       "2964   The Weinstein Company|Gravier Productions|Ante...      8/15/08   \n",
       "3429   Gravier Productions|TelevisiÃ³ de Catalunya (T...      5/11/11   \n",
       "4046                                      DreamWorks SKG       5/3/02   \n",
       "4250                                       Miramax Films     10/14/94   \n",
       "4493   Gravier Productions|Medusa Film|Mediapro|Perdi...      4/20/12   \n",
       "5079   DreamWorks SKG|Granada Film Productions|Perdid...      8/27/03   \n",
       "5310                                     New Line Cinema      8/26/97   \n",
       "5551                                 Perdido Productions      7/25/13   \n",
       "6116                                      Orion Pictures       3/1/85   \n",
       "6248                                          DreamWorks      5/12/05   \n",
       "6721   BBC Films|Ingenious Film Partners|Ingenious Me...      7/27/06   \n",
       "7121        Fox Searchlight Pictures|Gravier Productions     10/29/04   \n",
       "7278                                      United Artists       8/6/72   \n",
       "7355            United Artists|Rollins-Joffe Productions      9/26/80   \n",
       "7553    Virtual Studios|Wild Bunch|Iberville Productions      6/18/07   \n",
       "7835         Jack Rollins & Charles H. Joffe Productions      4/25/79   \n",
       "7978                          Orion Pictures Corporation      1/27/84   \n",
       "8020                                      Orion Pictures      7/15/83   \n",
       "8119                     Miramax Films|Magnolia Pictures      9/13/95   \n",
       "8354                                    TriStar Pictures      9/18/92   \n",
       "8505                                       Miramax Films      12/6/96   \n",
       "8741                                      DreamWorks SKG      5/19/00   \n",
       "8917                                      Orion Pictures      7/16/82   \n",
       "9075                Sweetland Films|Magnolia Productions       9/7/98   \n",
       "9238   Orion Pictures|Jack Rollins & Charles H. Joffe...     10/13/89   \n",
       "9372                                      Orion Pictures      12/5/91   \n",
       "9640                                      Orion Pictures      1/30/87   \n",
       "9817                                      United Artists      6/10/75   \n",
       "9941   United Artists|Jack Rollins & Charles H. Joffe...      4/28/71   \n",
       "10030                                     Orion Pictures     12/25/90   \n",
       "10257                                   TriStar Pictures      8/18/93   \n",
       "10519                                     Orion Pictures       2/7/86   \n",
       "10609                          Rollins-Joffe Productions     12/17/73   \n",
       "10729  Palomar Pictures|American Broadcasting Company...      8/18/69   \n",
       "10864                            Benedict Pictures Corp.      11/2/66   \n",
       "\n",
       "       vote_count  ratings  release_year    budget_adj   revenue_adj  \\\n",
       "155           319      6.1          2015  1.012000e+07  2.519979e+07   \n",
       "790           464      6.3          2014  0.000000e+00  2.978746e+07   \n",
       "1332          493      7.6          1977  1.439112e+07  1.376203e+08   \n",
       "1489          174      6.7          2009  1.524601e+07  0.000000e+00   \n",
       "2126          131      5.8          2010  2.200000e+07  0.000000e+00   \n",
       "2551           48      6.5          1999  0.000000e+00  0.000000e+00   \n",
       "2744           77      6.1          2001  0.000000e+00  0.000000e+00   \n",
       "2964          563      6.7          2008  1.519180e+07  9.764139e+07   \n",
       "3429         1117      7.2          2011  2.908194e+07  1.464947e+08   \n",
       "4046           54      6.2          2002  1.939618e+07  0.000000e+00   \n",
       "4250           59      6.7          1994  0.000000e+00  0.000000e+00   \n",
       "4493          298      5.5          2012  1.614565e+07  6.956391e+07   \n",
       "5079           70      6.1          2003  0.000000e+00  0.000000e+00   \n",
       "5310           73      6.9          1997  0.000000e+00  0.000000e+00   \n",
       "5551          680      6.9          2013  1.684860e+07  9.126838e+07   \n",
       "6116           99      7.0          1985  3.040749e+07  2.155148e+07   \n",
       "6248          620      7.1          2005  1.674845e+07  9.524997e+07   \n",
       "6721          208      6.2          2006  4.326677e+06  3.416441e+07   \n",
       "7121           49      5.8          2004  0.000000e+00  2.318799e+07   \n",
       "7278           93      6.5          1972  1.042912e+07  9.394704e+07   \n",
       "7355           41      6.3          1980  2.646037e+07  2.748968e+07   \n",
       "7553          108      6.1          2007  0.000000e+00  0.000000e+00   \n",
       "7835          310      7.7          1979  0.000000e+00  1.200223e+08   \n",
       "7978           41      6.6          1984  1.679234e+07  2.225089e+07   \n",
       "8020           73      7.1          1983  0.000000e+00  2.583085e+07   \n",
       "8119           61      6.5          1995  2.146450e+07  9.587478e+06   \n",
       "8354           38      5.9          1992  0.000000e+00  0.000000e+00   \n",
       "8505           69      6.3          1996  2.780433e+07  0.000000e+00   \n",
       "8741           78      6.2          2000  0.000000e+00  0.000000e+00   \n",
       "8917           41      5.9          1982  0.000000e+00  0.000000e+00   \n",
       "9075           53      5.9          1998  0.000000e+00  0.000000e+00   \n",
       "9238           86      6.9          1989  3.342071e+07  3.210975e+07   \n",
       "9372           26      6.0          1991  2.241530e+07  4.380159e+06   \n",
       "9640           48      6.2          1987  3.070529e+07  0.000000e+00   \n",
       "9817           66      7.1          1975  0.000000e+00  0.000000e+00   \n",
       "9941           76      6.5          1971  1.077039e+07  0.000000e+00   \n",
       "10030          22      5.9          1990  0.000000e+00  0.000000e+00   \n",
       "10257          69      6.9          1993  2.037784e+07  1.703526e+07   \n",
       "10519         102      7.3          1986  1.273220e+07  7.974345e+07   \n",
       "10609          93      6.9          1973  9.822319e+06  9.009389e+07   \n",
       "10729          77      6.9          1969  8.916396e+06  0.000000e+00   \n",
       "10864          22      5.4          1966  0.000000e+00  0.000000e+00   \n",
       "\n",
       "             profit  \n",
       "155    1.507979e+07  \n",
       "790    2.978746e+07  \n",
       "1332   1.232291e+08  \n",
       "1489  -1.524601e+07  \n",
       "2126  -2.200000e+07  \n",
       "2551   0.000000e+00  \n",
       "2744   0.000000e+00  \n",
       "2964   8.244959e+07  \n",
       "3429   1.174127e+08  \n",
       "4046  -1.939618e+07  \n",
       "4250   0.000000e+00  \n",
       "4493   5.341825e+07  \n",
       "5079   0.000000e+00  \n",
       "5310   0.000000e+00  \n",
       "5551   7.441978e+07  \n",
       "6116  -8.856013e+06  \n",
       "6248   7.850152e+07  \n",
       "6721   2.983774e+07  \n",
       "7121   2.318799e+07  \n",
       "7278   8.351792e+07  \n",
       "7355   1.029316e+06  \n",
       "7553   0.000000e+00  \n",
       "7835   1.200223e+08  \n",
       "7978   5.458553e+06  \n",
       "8020   2.583085e+07  \n",
       "8119  -1.187702e+07  \n",
       "8354   0.000000e+00  \n",
       "8505  -2.780433e+07  \n",
       "8741   0.000000e+00  \n",
       "8917   0.000000e+00  \n",
       "9075   0.000000e+00  \n",
       "9238  -1.310968e+06  \n",
       "9372  -1.803514e+07  \n",
       "9640  -3.070529e+07  \n",
       "9817   0.000000e+00  \n",
       "9941  -1.077039e+07  \n",
       "10030  0.000000e+00  \n",
       "10257 -3.342588e+06  \n",
       "10519  6.701125e+07  \n",
       "10609  8.027157e+07  \n",
       "10729 -8.916396e+06  \n",
       "10864  0.000000e+00  "
      ]
     },
     "execution_count": 39,
     "metadata": {},
     "output_type": "execute_result"
    }
   ],
   "source": [
    "woody = data.query('director == \"Woody Allen\"')\n",
    "woody"
   ]
  },
  {
   "cell_type": "markdown",
   "id": "13a40600",
   "metadata": {},
   "source": [
    "### The genre Woody Allen directs most"
   ]
  },
  {
   "cell_type": "code",
   "execution_count": 40,
   "id": "0c65aaa6",
   "metadata": {
    "scrolled": true
   },
   "outputs": [
    {
     "data": {
      "text/plain": [
       "History             1\n",
       "Science Fiction     1\n",
       "Fantasy             2\n",
       "Action              3\n",
       "Mystery             4\n",
       "Crime               6\n",
       "Thriller            6\n",
       "Romance            20\n",
       "Drama              21\n",
       "Comedy             38\n",
       "dtype: int64"
      ]
     },
     "execution_count": 40,
     "metadata": {},
     "output_type": "execute_result"
    }
   ],
   "source": [
    "woody_genre = woody.genres.str.split('|', expand=True).stack().value_counts().sort_values(ascending=True)\n",
    "woody_genre"
   ]
  },
  {
   "cell_type": "code",
   "execution_count": 41,
   "id": "9443860e",
   "metadata": {
    "scrolled": false
   },
   "outputs": [
    {
     "data": {
      "image/png": "[encoded data removed]",
      "text/plain": [
       "<Figure size 720x432 with 1 Axes>"
      ]
     },
     "metadata": {
      "needs_background": "light"
     },
     "output_type": "display_data"
    }
   ],
   "source": [
    "woody_genre.plot(kind= 'barh', color='green', figsize=(10,6),title='Movie Genres Directed by Woddy Allen', xlabel= 'Genres');"
   ]
  },
  {
   "cell_type": "code",
   "execution_count": 42,
   "id": "cba114dd",
   "metadata": {
    "scrolled": true
   },
   "outputs": [
    {
     "name": "stdout",
     "output_type": "stream",
     "text": [
      "The highest budget Woody Allen has worked with is $33420713.8418218\n",
      "The lowest budget Woody Allen has worked with is $0.0\n"
     ]
    }
   ],
   "source": [
    "print('The highest budget Woody Allen has worked with is ${max_budget}'.format(max_budget= woody.budget_adj.max()))\n",
    "print('The lowest budget Woody Allen has worked with is ${min_budget}'.format(min_budget= woody.budget_adj.min()))"
   ]
  },
  {
   "cell_type": "markdown",
   "id": "a4ccad98",
   "metadata": {},
   "source": [
    ">This output cannot be right. Woody Allen or any director would not work on a movie without budget. This probably means the data is just unavailable. Even though we are able to output a figure for the highest budget, the answer is still not certain, because the unavalible data might just be a figure higher than the output, but this is still something."
   ]
  },
  {
   "cell_type": "code",
   "execution_count": 43,
   "id": "0545df43",
   "metadata": {
    "scrolled": true
   },
   "outputs": [
    {
     "data": {
      "text/html": [
       "<div>\n",
       "<style scoped>\n",
       "    .dataframe tbody tr th:only-of-type {\n",
       "        vertical-align: middle;\n",
       "    }\n",
       "\n",
       "    .dataframe tbody tr th {\n",
       "        vertical-align: top;\n",
       "    }\n",
       "\n",
       "    .dataframe thead th {\n",
       "        text-align: right;\n",
       "    }\n",
       "</style>\n",
       "<table border=\"1\" class=\"dataframe\">\n",
       "  <thead>\n",
       "    <tr style=\"text-align: right;\">\n",
       "      <th></th>\n",
       "      <th>popularity</th>\n",
       "      <th>budget</th>\n",
       "      <th>revenue</th>\n",
       "      <th>original_title</th>\n",
       "      <th>cast</th>\n",
       "      <th>director</th>\n",
       "      <th>runtime</th>\n",
       "      <th>genres</th>\n",
       "      <th>production_companies</th>\n",
       "      <th>release_date</th>\n",
       "      <th>vote_count</th>\n",
       "      <th>ratings</th>\n",
       "      <th>release_year</th>\n",
       "      <th>budget_adj</th>\n",
       "      <th>revenue_adj</th>\n",
       "      <th>profit</th>\n",
       "    </tr>\n",
       "  </thead>\n",
       "  <tbody>\n",
       "    <tr>\n",
       "      <th>9238</th>\n",
       "      <td>0.415913</td>\n",
       "      <td>19000000</td>\n",
       "      <td>18254702</td>\n",
       "      <td>Crimes and Misdemeanors</td>\n",
       "      <td>Woody Allen|Martin Landau|Anjelica Huston|Joan...</td>\n",
       "      <td>Woody Allen</td>\n",
       "      <td>104</td>\n",
       "      <td>Comedy|Drama</td>\n",
       "      <td>Orion Pictures|Jack Rollins &amp; Charles H. Joffe...</td>\n",
       "      <td>10/13/89</td>\n",
       "      <td>86</td>\n",
       "      <td>6.9</td>\n",
       "      <td>1989</td>\n",
       "      <td>3.342071e+07</td>\n",
       "      <td>3.210975e+07</td>\n",
       "      <td>-1.310968e+06</td>\n",
       "    </tr>\n",
       "  </tbody>\n",
       "</table>\n",
       "</div>"
      ],
      "text/plain": [
       "      popularity    budget   revenue           original_title  \\\n",
       "9238    0.415913  19000000  18254702  Crimes and Misdemeanors   \n",
       "\n",
       "                                                   cast     director  runtime  \\\n",
       "9238  Woody Allen|Martin Landau|Anjelica Huston|Joan...  Woody Allen      104   \n",
       "\n",
       "            genres                               production_companies  \\\n",
       "9238  Comedy|Drama  Orion Pictures|Jack Rollins & Charles H. Joffe...   \n",
       "\n",
       "     release_date  vote_count  ratings  release_year    budget_adj  \\\n",
       "9238     10/13/89          86      6.9          1989  3.342071e+07   \n",
       "\n",
       "       revenue_adj        profit  \n",
       "9238  3.210975e+07 -1.310968e+06  "
      ]
     },
     "execution_count": 43,
     "metadata": {},
     "output_type": "execute_result"
    }
   ],
   "source": [
    "woody.query('budget_adj == 33420713.8418218')"
   ]
  },
  {
   "cell_type": "markdown",
   "id": "45807a9e",
   "metadata": {},
   "source": [
    ">According to the data, the movie Woody Allen spent the most money on was released back in 1989, 26 years before his latest release in 2015. The movie is a combination of drama and comedy, the top 2 genres that Woody Allen directs most."
   ]
  },
  {
   "cell_type": "markdown",
   "id": "65054a33",
   "metadata": {},
   "source": [
    "## Which production company has produced the most movies over the years?"
   ]
  },
  {
   "cell_type": "code",
   "execution_count": 44,
   "id": "429bb918",
   "metadata": {
    "scrolled": true
   },
   "outputs": [
    {
     "data": {
      "text/plain": [
       "Columbia Pictures Corporation             160\n",
       "Touchstone Pictures                       178\n",
       "Walt Disney Pictures                      213\n",
       "Metro-Goldwyn-Mayer (MGM)                 218\n",
       "New Line Cinema                           219\n",
       "Columbia Pictures                         272\n",
       "Twentieth Century Fox Film Corporation    282\n",
       "Paramount Pictures                        431\n",
       "Warner Bros.                              509\n",
       "Universal Pictures                        522\n",
       "dtype: int64"
      ]
     },
     "execution_count": 44,
     "metadata": {},
     "output_type": "execute_result"
    }
   ],
   "source": [
    "prod_comp = data.production_companies.str.split('|', expand=True).stack().value_counts().sort_values(ascending=True)\n",
    "prod_comp = prod_comp.tail(10)\n",
    "prod_comp"
   ]
  },
  {
   "cell_type": "code",
   "execution_count": 45,
   "id": "3d07359c",
   "metadata": {
    "scrolled": false
   },
   "outputs": [
    {
     "data": {
      "image/png": "[encoded data removed]",
      "text/plain": [
       "<Figure size 720x432 with 1 Axes>"
      ]
     },
     "metadata": {
      "needs_background": "light"
     },
     "output_type": "display_data"
    }
   ],
   "source": [
    "prod_comp.plot(kind= 'barh',figsize=(10,6),\n",
    "               title='Number of Movies Produce by top 10 Production Companies', \n",
    "               xlabel= 'Production Company');"
   ]
  },
  {
   "cell_type": "markdown",
   "id": "8492b4ce",
   "metadata": {},
   "source": [
    "## which year had the best ratings in the movie industry?"
   ]
  },
  {
   "cell_type": "code",
   "execution_count": 46,
   "id": "72028431",
   "metadata": {},
   "outputs": [
    {
     "data": {
      "text/plain": [
       "release_year\n",
       "1960    6.325000\n",
       "1961    6.433333\n",
       "1962    6.386667\n",
       "1963    6.329412\n",
       "1964    6.224390\n",
       "1965    6.188235\n",
       "1966    6.086364\n",
       "1967    6.319444\n",
       "1968    6.370270\n",
       "1969    5.944828\n",
       "1970    6.502500\n",
       "1971    6.420000\n",
       "1972    6.524324\n",
       "1973    6.703636\n",
       "1974    6.404545\n",
       "1975    6.452381\n",
       "1976    6.371739\n",
       "1977    6.141818\n",
       "1978    6.139344\n",
       "1979    6.296429\n",
       "1980    6.145205\n",
       "1981    6.152564\n",
       "1982    6.230000\n",
       "1983    5.951948\n",
       "1984    6.010101\n",
       "1985    6.184906\n",
       "1986    6.060550\n",
       "1987    6.149558\n",
       "1988    5.931061\n",
       "1989    6.072656\n",
       "1990    5.967460\n",
       "1991    6.050400\n",
       "1992    6.046825\n",
       "1993    6.038953\n",
       "1994    5.940230\n",
       "1995    6.072353\n",
       "1996    5.867857\n",
       "1997    5.997778\n",
       "1998    5.983246\n",
       "1999    6.052358\n",
       "2000    5.866837\n",
       "2001    5.907547\n",
       "2002    5.950207\n",
       "2003    5.925197\n",
       "2004    5.963636\n",
       "2005    5.820433\n",
       "2006    5.939143\n",
       "2007    5.944730\n",
       "2008    5.925850\n",
       "2009    5.838397\n",
       "2010    5.963095\n",
       "2011    5.932018\n",
       "2012    5.750602\n",
       "2013    5.863316\n",
       "2014    5.886614\n",
       "2015    5.825627\n",
       "Name: ratings, dtype: float64"
      ]
     },
     "execution_count": 46,
     "metadata": {},
     "output_type": "execute_result"
    }
   ],
   "source": [
    "best_ratings = data.groupby('release_year')['ratings'].mean()\n",
    "best_ratings"
   ]
  },
  {
   "cell_type": "code",
   "execution_count": 47,
   "id": "5c85acff",
   "metadata": {
    "scrolled": true
   },
   "outputs": [
    {
     "data": {
      "image/png": "[encoded data removed]",
      "text/plain": [
       "<Figure size 1440x432 with 1 Axes>"
      ]
     },
     "metadata": {
      "needs_background": "light"
     },
     "output_type": "display_data"
    }
   ],
   "source": [
    "best_ratings.plot(kind= 'line', color='red', figsize=(20,6),\n",
    "                                  title='Average Movie Ratings from 1960s to 2000s', \n",
    "                                  xlabel= 'Year', ylabel='Ratings');"
   ]
  },
  {
   "cell_type": "code",
   "execution_count": 48,
   "id": "40d01f58",
   "metadata": {},
   "outputs": [
    {
     "name": "stdout",
     "output_type": "stream",
     "text": [
      "The year with the best rating in the movie industry is 1973 with a rating of 6.7\n",
      "The year with the least rating in the movie industry is 2012 with a rating of 5.8\n"
     ]
    }
   ],
   "source": [
    "sorted_ratings = best_ratings.sort_values()\n",
    "print('The year with the best rating in the movie industry is {high} with a rating of {hrating}'\n",
    "      .format(high=sorted_ratings.index[-1], hrating=round(sorted_ratings.max(),1)))\n",
    "\n",
    "print('The year with the least rating in the movie industry is {low} with a rating of {lrating}'\n",
    "      .format(low=sorted_ratings.index[0], lrating=round(sorted_ratings.min(),1)))"
   ]
  },
  {
   "cell_type": "markdown",
   "id": "284eb44e",
   "metadata": {},
   "source": [
    "## Which year had the highest gross profit?"
   ]
  },
  {
   "cell_type": "code",
   "execution_count": 49,
   "id": "4a8b76a2",
   "metadata": {
    "scrolled": true
   },
   "outputs": [
    {
     "data": {
      "text/plain": [
       "count    9.772000e+03\n",
       "mean     3.763710e+07\n",
       "std      1.314756e+08\n",
       "min     -4.139124e+08\n",
       "25%      0.000000e+00\n",
       "50%      0.000000e+00\n",
       "75%      2.029698e+07\n",
       "max      2.750137e+09\n",
       "Name: profit, dtype: float64"
      ]
     },
     "execution_count": 49,
     "metadata": {},
     "output_type": "execute_result"
    }
   ],
   "source": [
    "data.profit.describe()"
   ]
  },
  {
   "cell_type": "markdown",
   "id": "8aa79409",
   "metadata": {},
   "source": [
    ">Looking at the statistical summary of the profit column, there are movies that made losses. Now to examine the distribution of prodits made in the industry from 1960 - 2015"
   ]
  },
  {
   "cell_type": "code",
   "execution_count": 50,
   "id": "dcca0ed6",
   "metadata": {
    "scrolled": false
   },
   "outputs": [
    {
     "data": {
      "image/png": "[encoded data removed]",
      "text/plain": [
       "<Figure size 1440x432 with 1 Axes>"
      ]
     },
     "metadata": {
      "needs_background": "light"
     },
     "output_type": "display_data"
    }
   ],
   "source": [
    "profit_loss = data.groupby('release_year')['profit'].mean()\n",
    "profit_loss.plot(kind= 'line', color='red', figsize=(20,6),\n",
    "                                  title='Profits Made from 1960s to 2000s', \n",
    "                                  xlabel= 'Year', ylabel='Profit / Loss');"
   ]
  },
  {
   "cell_type": "markdown",
   "id": "6bb262fe",
   "metadata": {},
   "source": [
    ">The line plot for yearly movie ratings and yearly profits seem to follow the same trend. Does this mean that the higher the rating for a movie, the higher the profits or the lower ratings means loss for the producers?\n",
    "Time to see if ratings and profits are correlated."
   ]
  },
  {
   "cell_type": "code",
   "execution_count": 51,
   "id": "5ba6bb36",
   "metadata": {
    "scrolled": false
   },
   "outputs": [
    {
     "data": {
      "image/png": "[encoded data removed]",
      "text/plain": [
       "<Figure size 576x360 with 1 Axes>"
      ]
     },
     "metadata": {
      "needs_background": "light"
     },
     "output_type": "display_data"
    }
   ],
   "source": [
    "data.plot(x='profit',y='ratings',kind='scatter',figsize=(8,5));"
   ]
  },
  {
   "cell_type": "markdown",
   "id": "73dfeede",
   "metadata": {},
   "source": [
    ">Profit and Ratings are somewhat correlated. The dot to the far left seems to have a high rating, but the profit is low, while the one on the far right has a high raing and a high profit as well."
   ]
  },
  {
   "cell_type": "code",
   "execution_count": 52,
   "id": "429d8c79",
   "metadata": {},
   "outputs": [
    {
     "name": "stdout",
     "output_type": "stream",
     "text": [
      "The year in which high profit was made on movies is 1977 with a rating of 132071477.6\n"
     ]
    }
   ],
   "source": [
    "sorted_profit = profit_loss.sort_values()\n",
    "print('The year in which high profit was made on movies is {high} with a rating of {hprofit}'\n",
    "      .format(high=sorted_profit.index[-1], hprofit=round(sorted_profit.max(),1)))"
   ]
  },
  {
   "cell_type": "markdown",
   "id": "e4e04cac",
   "metadata": {},
   "source": [
    "## Do movies with high ratings have a higher gross profit?"
   ]
  },
  {
   "cell_type": "markdown",
   "id": "d4bef52e",
   "metadata": {},
   "source": [
    ">This should tally with movies with high profits and most popular genre"
   ]
  },
  {
   "cell_type": "code",
   "execution_count": 53,
   "id": "6fd229ec",
   "metadata": {},
   "outputs": [],
   "source": [
    "ratings_median = data['ratings'].median()\n",
    "high_rating = data.query('ratings >= {}'.format(ratings_median))\n",
    "low_rating = data.query('ratings < {}'.format(ratings_median))"
   ]
  },
  {
   "cell_type": "code",
   "execution_count": 54,
   "id": "e5acfc0b",
   "metadata": {
    "scrolled": true
   },
   "outputs": [],
   "source": [
    "mean_high_rating = high_rating.profit.mean()\n",
    "mean_low_rating = low_rating.profit.mean()"
   ]
  },
  {
   "cell_type": "code",
   "execution_count": 55,
   "id": "1f9c96aa",
   "metadata": {
    "scrolled": true
   },
   "outputs": [
    {
     "data": {
      "image/png": "[encoded data removed]",
      "text/plain": [
       "<Figure size 432x288 with 1 Axes>"
      ]
     },
     "metadata": {
      "needs_background": "light"
     },
     "output_type": "display_data"
    }
   ],
   "source": [
    "plt.bar(['High Rating', 'Low Rating'], [mean_high_rating, mean_low_rating]) #labels, height\n",
    "plt.title('Average Profit of Highly and Lowly Rated Movies')\n",
    "plt.xlabel('Rating')\n",
    "plt.ylabel('Profit')\n",
    "plt.show()"
   ]
  },
  {
   "cell_type": "code",
   "execution_count": 56,
   "id": "f8cd7af5",
   "metadata": {},
   "outputs": [
    {
     "data": {
      "text/html": [
       "<div>\n",
       "<style scoped>\n",
       "    .dataframe tbody tr th:only-of-type {\n",
       "        vertical-align: middle;\n",
       "    }\n",
       "\n",
       "    .dataframe tbody tr th {\n",
       "        vertical-align: top;\n",
       "    }\n",
       "\n",
       "    .dataframe thead th {\n",
       "        text-align: right;\n",
       "    }\n",
       "</style>\n",
       "<table border=\"1\" class=\"dataframe\">\n",
       "  <thead>\n",
       "    <tr style=\"text-align: right;\">\n",
       "      <th></th>\n",
       "      <th>popularity</th>\n",
       "      <th>budget</th>\n",
       "      <th>revenue</th>\n",
       "      <th>original_title</th>\n",
       "      <th>cast</th>\n",
       "      <th>director</th>\n",
       "      <th>runtime</th>\n",
       "      <th>genres</th>\n",
       "      <th>production_companies</th>\n",
       "      <th>release_date</th>\n",
       "      <th>vote_count</th>\n",
       "      <th>ratings</th>\n",
       "      <th>release_year</th>\n",
       "      <th>budget_adj</th>\n",
       "      <th>revenue_adj</th>\n",
       "      <th>profit</th>\n",
       "    </tr>\n",
       "  </thead>\n",
       "  <tbody>\n",
       "    <tr>\n",
       "      <th>0</th>\n",
       "      <td>32.985763</td>\n",
       "      <td>150000000</td>\n",
       "      <td>1513528810</td>\n",
       "      <td>Jurassic World</td>\n",
       "      <td>Chris Pratt|Bryce Dallas Howard|Irrfan Khan|Vi...</td>\n",
       "      <td>Colin Trevorrow</td>\n",
       "      <td>124</td>\n",
       "      <td>Action|Adventure|Science Fiction|Thriller</td>\n",
       "      <td>Universal Studios|Amblin Entertainment|Legenda...</td>\n",
       "      <td>6/9/15</td>\n",
       "      <td>5562</td>\n",
       "      <td>6.5</td>\n",
       "      <td>2015</td>\n",
       "      <td>1.379999e+08</td>\n",
       "      <td>1.392446e+09</td>\n",
       "      <td>1.254446e+09</td>\n",
       "    </tr>\n",
       "    <tr>\n",
       "      <th>1</th>\n",
       "      <td>28.419936</td>\n",
       "      <td>150000000</td>\n",
       "      <td>378436354</td>\n",
       "      <td>Mad Max: Fury Road</td>\n",
       "      <td>Tom Hardy|Charlize Theron|Hugh Keays-Byrne|Nic...</td>\n",
       "      <td>George Miller</td>\n",
       "      <td>120</td>\n",
       "      <td>Action|Adventure|Science Fiction|Thriller</td>\n",
       "      <td>Village Roadshow Pictures|Kennedy Miller Produ...</td>\n",
       "      <td>5/13/15</td>\n",
       "      <td>6185</td>\n",
       "      <td>7.1</td>\n",
       "      <td>2015</td>\n",
       "      <td>1.379999e+08</td>\n",
       "      <td>3.481613e+08</td>\n",
       "      <td>2.101614e+08</td>\n",
       "    </tr>\n",
       "    <tr>\n",
       "      <th>2</th>\n",
       "      <td>13.112507</td>\n",
       "      <td>110000000</td>\n",
       "      <td>295238201</td>\n",
       "      <td>Insurgent</td>\n",
       "      <td>Shailene Woodley|Theo James|Kate Winslet|Ansel...</td>\n",
       "      <td>Robert Schwentke</td>\n",
       "      <td>119</td>\n",
       "      <td>Adventure|Science Fiction|Thriller</td>\n",
       "      <td>Summit Entertainment|Mandeville Films|Red Wago...</td>\n",
       "      <td>3/18/15</td>\n",
       "      <td>2480</td>\n",
       "      <td>6.3</td>\n",
       "      <td>2015</td>\n",
       "      <td>1.012000e+08</td>\n",
       "      <td>2.716190e+08</td>\n",
       "      <td>1.704191e+08</td>\n",
       "    </tr>\n",
       "    <tr>\n",
       "      <th>3</th>\n",
       "      <td>11.173104</td>\n",
       "      <td>200000000</td>\n",
       "      <td>2068178225</td>\n",
       "      <td>Star Wars: The Force Awakens</td>\n",
       "      <td>Harrison Ford|Mark Hamill|Carrie Fisher|Adam D...</td>\n",
       "      <td>J.J. Abrams</td>\n",
       "      <td>136</td>\n",
       "      <td>Action|Adventure|Science Fiction|Fantasy</td>\n",
       "      <td>Lucasfilm|Truenorth Productions|Bad Robot</td>\n",
       "      <td>12/15/15</td>\n",
       "      <td>5292</td>\n",
       "      <td>7.5</td>\n",
       "      <td>2015</td>\n",
       "      <td>1.839999e+08</td>\n",
       "      <td>1.902723e+09</td>\n",
       "      <td>1.718723e+09</td>\n",
       "    </tr>\n",
       "    <tr>\n",
       "      <th>4</th>\n",
       "      <td>9.335014</td>\n",
       "      <td>190000000</td>\n",
       "      <td>1506249360</td>\n",
       "      <td>Furious 7</td>\n",
       "      <td>Vin Diesel|Paul Walker|Jason Statham|Michelle ...</td>\n",
       "      <td>James Wan</td>\n",
       "      <td>137</td>\n",
       "      <td>Action|Crime|Thriller</td>\n",
       "      <td>Universal Pictures|Original Film|Media Rights ...</td>\n",
       "      <td>4/1/15</td>\n",
       "      <td>2947</td>\n",
       "      <td>7.3</td>\n",
       "      <td>2015</td>\n",
       "      <td>1.747999e+08</td>\n",
       "      <td>1.385749e+09</td>\n",
       "      <td>1.210949e+09</td>\n",
       "    </tr>\n",
       "    <tr>\n",
       "      <th>...</th>\n",
       "      <td>...</td>\n",
       "      <td>...</td>\n",
       "      <td>...</td>\n",
       "      <td>...</td>\n",
       "      <td>...</td>\n",
       "      <td>...</td>\n",
       "      <td>...</td>\n",
       "      <td>...</td>\n",
       "      <td>...</td>\n",
       "      <td>...</td>\n",
       "      <td>...</td>\n",
       "      <td>...</td>\n",
       "      <td>...</td>\n",
       "      <td>...</td>\n",
       "      <td>...</td>\n",
       "      <td>...</td>\n",
       "    </tr>\n",
       "    <tr>\n",
       "      <th>10855</th>\n",
       "      <td>0.141026</td>\n",
       "      <td>700000</td>\n",
       "      <td>0</td>\n",
       "      <td>The Ghost &amp; Mr. Chicken</td>\n",
       "      <td>Don Knotts|Joan Staley|Liam Redmond|Dick Sarge...</td>\n",
       "      <td>Alan Rafkin</td>\n",
       "      <td>90</td>\n",
       "      <td>Comedy|Family|Mystery|Romance</td>\n",
       "      <td>Universal Pictures</td>\n",
       "      <td>1/20/66</td>\n",
       "      <td>14</td>\n",
       "      <td>6.1</td>\n",
       "      <td>1966</td>\n",
       "      <td>4.702610e+06</td>\n",
       "      <td>0.000000e+00</td>\n",
       "      <td>-4.702610e+06</td>\n",
       "    </tr>\n",
       "    <tr>\n",
       "      <th>10859</th>\n",
       "      <td>0.089072</td>\n",
       "      <td>0</td>\n",
       "      <td>0</td>\n",
       "      <td>Seconds</td>\n",
       "      <td>Rock Hudson|Salome Jens|John Randolph|Will Gee...</td>\n",
       "      <td>John Frankenheimer</td>\n",
       "      <td>100</td>\n",
       "      <td>Mystery|Science Fiction|Thriller|Drama</td>\n",
       "      <td>Gibraltar Productions|Joel Productions|John Fr...</td>\n",
       "      <td>10/5/66</td>\n",
       "      <td>22</td>\n",
       "      <td>6.6</td>\n",
       "      <td>1966</td>\n",
       "      <td>0.000000e+00</td>\n",
       "      <td>0.000000e+00</td>\n",
       "      <td>0.000000e+00</td>\n",
       "    </tr>\n",
       "    <tr>\n",
       "      <th>10860</th>\n",
       "      <td>0.087034</td>\n",
       "      <td>0</td>\n",
       "      <td>0</td>\n",
       "      <td>Carry On Screaming!</td>\n",
       "      <td>Kenneth Williams|Jim Dale|Harry H. Corbett|Joa...</td>\n",
       "      <td>Gerald Thomas</td>\n",
       "      <td>87</td>\n",
       "      <td>Comedy</td>\n",
       "      <td>Peter Rogers Productions|Anglo-Amalgamated Fil...</td>\n",
       "      <td>5/20/66</td>\n",
       "      <td>13</td>\n",
       "      <td>7.0</td>\n",
       "      <td>1966</td>\n",
       "      <td>0.000000e+00</td>\n",
       "      <td>0.000000e+00</td>\n",
       "      <td>0.000000e+00</td>\n",
       "    </tr>\n",
       "    <tr>\n",
       "      <th>10861</th>\n",
       "      <td>0.080598</td>\n",
       "      <td>0</td>\n",
       "      <td>0</td>\n",
       "      <td>The Endless Summer</td>\n",
       "      <td>Michael Hynson|Robert August|Lord 'Tally Ho' B...</td>\n",
       "      <td>Bruce Brown</td>\n",
       "      <td>95</td>\n",
       "      <td>Documentary</td>\n",
       "      <td>Bruce Brown Films</td>\n",
       "      <td>6/15/66</td>\n",
       "      <td>11</td>\n",
       "      <td>7.4</td>\n",
       "      <td>1966</td>\n",
       "      <td>0.000000e+00</td>\n",
       "      <td>0.000000e+00</td>\n",
       "      <td>0.000000e+00</td>\n",
       "    </tr>\n",
       "    <tr>\n",
       "      <th>10863</th>\n",
       "      <td>0.065141</td>\n",
       "      <td>0</td>\n",
       "      <td>0</td>\n",
       "      <td>Beregis Avtomobilya</td>\n",
       "      <td>Innokentiy Smoktunovskiy|Oleg Efremov|Georgi Z...</td>\n",
       "      <td>Eldar Ryazanov</td>\n",
       "      <td>94</td>\n",
       "      <td>Mystery|Comedy</td>\n",
       "      <td>Mosfilm</td>\n",
       "      <td>1/1/66</td>\n",
       "      <td>11</td>\n",
       "      <td>6.5</td>\n",
       "      <td>1966</td>\n",
       "      <td>0.000000e+00</td>\n",
       "      <td>0.000000e+00</td>\n",
       "      <td>0.000000e+00</td>\n",
       "    </tr>\n",
       "  </tbody>\n",
       "</table>\n",
       "<p>5188 rows × 16 columns</p>\n",
       "</div>"
      ],
      "text/plain": [
       "       popularity     budget     revenue                original_title  \\\n",
       "0       32.985763  150000000  1513528810                Jurassic World   \n",
       "1       28.419936  150000000   378436354            Mad Max: Fury Road   \n",
       "2       13.112507  110000000   295238201                     Insurgent   \n",
       "3       11.173104  200000000  2068178225  Star Wars: The Force Awakens   \n",
       "4        9.335014  190000000  1506249360                     Furious 7   \n",
       "...           ...        ...         ...                           ...   \n",
       "10855    0.141026     700000           0       The Ghost & Mr. Chicken   \n",
       "10859    0.089072          0           0                       Seconds   \n",
       "10860    0.087034          0           0           Carry On Screaming!   \n",
       "10861    0.080598          0           0            The Endless Summer   \n",
       "10863    0.065141          0           0           Beregis Avtomobilya   \n",
       "\n",
       "                                                    cast            director  \\\n",
       "0      Chris Pratt|Bryce Dallas Howard|Irrfan Khan|Vi...     Colin Trevorrow   \n",
       "1      Tom Hardy|Charlize Theron|Hugh Keays-Byrne|Nic...       George Miller   \n",
       "2      Shailene Woodley|Theo James|Kate Winslet|Ansel...    Robert Schwentke   \n",
       "3      Harrison Ford|Mark Hamill|Carrie Fisher|Adam D...         J.J. Abrams   \n",
       "4      Vin Diesel|Paul Walker|Jason Statham|Michelle ...           James Wan   \n",
       "...                                                  ...                 ...   \n",
       "10855  Don Knotts|Joan Staley|Liam Redmond|Dick Sarge...         Alan Rafkin   \n",
       "10859  Rock Hudson|Salome Jens|John Randolph|Will Gee...  John Frankenheimer   \n",
       "10860  Kenneth Williams|Jim Dale|Harry H. Corbett|Joa...       Gerald Thomas   \n",
       "10861  Michael Hynson|Robert August|Lord 'Tally Ho' B...         Bruce Brown   \n",
       "10863  Innokentiy Smoktunovskiy|Oleg Efremov|Georgi Z...      Eldar Ryazanov   \n",
       "\n",
       "       runtime                                     genres  \\\n",
       "0          124  Action|Adventure|Science Fiction|Thriller   \n",
       "1          120  Action|Adventure|Science Fiction|Thriller   \n",
       "2          119         Adventure|Science Fiction|Thriller   \n",
       "3          136   Action|Adventure|Science Fiction|Fantasy   \n",
       "4          137                      Action|Crime|Thriller   \n",
       "...        ...                                        ...   \n",
       "10855       90              Comedy|Family|Mystery|Romance   \n",
       "10859      100     Mystery|Science Fiction|Thriller|Drama   \n",
       "10860       87                                     Comedy   \n",
       "10861       95                                Documentary   \n",
       "10863       94                             Mystery|Comedy   \n",
       "\n",
       "                                    production_companies release_date  \\\n",
       "0      Universal Studios|Amblin Entertainment|Legenda...       6/9/15   \n",
       "1      Village Roadshow Pictures|Kennedy Miller Produ...      5/13/15   \n",
       "2      Summit Entertainment|Mandeville Films|Red Wago...      3/18/15   \n",
       "3              Lucasfilm|Truenorth Productions|Bad Robot     12/15/15   \n",
       "4      Universal Pictures|Original Film|Media Rights ...       4/1/15   \n",
       "...                                                  ...          ...   \n",
       "10855                                 Universal Pictures      1/20/66   \n",
       "10859  Gibraltar Productions|Joel Productions|John Fr...      10/5/66   \n",
       "10860  Peter Rogers Productions|Anglo-Amalgamated Fil...      5/20/66   \n",
       "10861                                  Bruce Brown Films      6/15/66   \n",
       "10863                                            Mosfilm       1/1/66   \n",
       "\n",
       "       vote_count  ratings  release_year    budget_adj   revenue_adj  \\\n",
       "0            5562      6.5          2015  1.379999e+08  1.392446e+09   \n",
       "1            6185      7.1          2015  1.379999e+08  3.481613e+08   \n",
       "2            2480      6.3          2015  1.012000e+08  2.716190e+08   \n",
       "3            5292      7.5          2015  1.839999e+08  1.902723e+09   \n",
       "4            2947      7.3          2015  1.747999e+08  1.385749e+09   \n",
       "...           ...      ...           ...           ...           ...   \n",
       "10855          14      6.1          1966  4.702610e+06  0.000000e+00   \n",
       "10859          22      6.6          1966  0.000000e+00  0.000000e+00   \n",
       "10860          13      7.0          1966  0.000000e+00  0.000000e+00   \n",
       "10861          11      7.4          1966  0.000000e+00  0.000000e+00   \n",
       "10863          11      6.5          1966  0.000000e+00  0.000000e+00   \n",
       "\n",
       "             profit  \n",
       "0      1.254446e+09  \n",
       "1      2.101614e+08  \n",
       "2      1.704191e+08  \n",
       "3      1.718723e+09  \n",
       "4      1.210949e+09  \n",
       "...             ...  \n",
       "10855 -4.702610e+06  \n",
       "10859  0.000000e+00  \n",
       "10860  0.000000e+00  \n",
       "10861  0.000000e+00  \n",
       "10863  0.000000e+00  \n",
       "\n",
       "[5188 rows x 16 columns]"
      ]
     },
     "execution_count": 56,
     "metadata": {},
     "output_type": "execute_result"
    }
   ],
   "source": [
    "high_rating"
   ]
  },
  {
   "cell_type": "markdown",
   "id": "3390e3c3",
   "metadata": {},
   "source": [
    "Yes, movies that have high ratings also have high profits."
   ]
  },
  {
   "cell_type": "code",
   "execution_count": 57,
   "id": "cacf72e6",
   "metadata": {},
   "outputs": [],
   "source": [
    "high_profit_genre = high_rating.genres.str.split('|', expand=True).stack().value_counts()\n",
    "low_profit_genre = low_rating.genres.str.split('|', expand=True).stack().value_counts()"
   ]
  },
  {
   "cell_type": "code",
   "execution_count": 58,
   "id": "e24014ca",
   "metadata": {},
   "outputs": [
    {
     "data": {
      "text/plain": [
       "Drama              2763\n",
       "Comedy             1668\n",
       "Thriller           1237\n",
       "Action             1051\n",
       "Romance             895\n",
       "Crime               789\n",
       "Adventure           733\n",
       "Family              584\n",
       "Science Fiction     490\n",
       "Animation           449\n",
       "Horror              433\n",
       "Fantasy             416\n",
       "Mystery             415\n",
       "Documentary         290\n",
       "Music               242\n",
       "History             237\n",
       "War                 177\n",
       "Western              97\n",
       "Foreign              65\n",
       "TV Movie             56\n",
       "dtype: int64"
      ]
     },
     "execution_count": 58,
     "metadata": {},
     "output_type": "execute_result"
    }
   ],
   "source": [
    "high_profit_genre"
   ]
  },
  {
   "cell_type": "code",
   "execution_count": 59,
   "id": "5ae0eb00",
   "metadata": {
    "scrolled": false
   },
   "outputs": [
    {
     "data": {
      "image/png": "[encoded data removed]",
      "text/plain": [
       "<Figure size 720x432 with 1 Axes>"
      ]
     },
     "metadata": {
      "needs_background": "light"
     },
     "output_type": "display_data"
    }
   ],
   "source": [
    "high_profit_genre.plot(kind= 'barh', figsize=(10,6),title='Genre of Movies with High Profit', xlabel= 'Genres');"
   ]
  },
  {
   "cell_type": "code",
   "execution_count": 60,
   "id": "8de29bd7",
   "metadata": {},
   "outputs": [
    {
     "data": {
      "text/plain": [
       "Comedy             1765\n",
       "Drama              1601\n",
       "Thriller           1509\n",
       "Action             1184\n",
       "Horror             1093\n",
       "Romance             675\n",
       "Adventure           651\n",
       "Science Fiction     646\n",
       "Family              511\n",
       "Crime               510\n",
       "Fantasy             424\n",
       "Mystery             358\n",
       "Animation           168\n",
       "Music                97\n",
       "War                  81\n",
       "TV Movie             76\n",
       "History              69\n",
       "Western              63\n",
       "Foreign              55\n",
       "Documentary          27\n",
       "dtype: int64"
      ]
     },
     "execution_count": 60,
     "metadata": {},
     "output_type": "execute_result"
    }
   ],
   "source": [
    "low_profit_genre"
   ]
  },
  {
   "cell_type": "code",
   "execution_count": 61,
   "id": "f55de27f",
   "metadata": {
    "scrolled": false
   },
   "outputs": [
    {
     "data": {
      "image/png": "[encoded data removed]",
      "text/plain": [
       "<Figure size 720x432 with 1 Axes>"
      ]
     },
     "metadata": {
      "needs_background": "light"
     },
     "output_type": "display_data"
    }
   ],
   "source": [
    "low_profit_genre.plot(kind= 'barh', figsize=(10,6),title='Genre of Movies with Low Profit', xlabel= 'Genres');"
   ]
  },
  {
   "cell_type": "markdown",
   "id": "5406aceb",
   "metadata": {},
   "source": [
    "It is true that the most produced movie genres includes Comedy and Drama and they grossed the highest profit. The genres also recieve low ratings. While we have established that rating does contribute to profits, we can conclude that genre of movies do not explicitly result in high ratings or high profits. \n",
    "\n",
    "If genre does result in a high rating or high profit, the low rating dataframe would not have genres like comedy or drama since they are the most popular."
   ]
  },
  {
   "cell_type": "markdown",
   "id": "79acd9e1",
   "metadata": {},
   "source": [
    "## What kinds of properties are associated with movies that have high profit?"
   ]
  },
  {
   "cell_type": "markdown",
   "id": "ef97f8a3",
   "metadata": {},
   "source": [
    ">This question will be answered with the following features: [popularity, rating, budget, revenue]"
   ]
  },
  {
   "cell_type": "code",
   "execution_count": 62,
   "id": "e23c2a29",
   "metadata": {
    "scrolled": true
   },
   "outputs": [
    {
     "data": {
      "text/html": [
       "<div>\n",
       "<style scoped>\n",
       "    .dataframe tbody tr th:only-of-type {\n",
       "        vertical-align: middle;\n",
       "    }\n",
       "\n",
       "    .dataframe tbody tr th {\n",
       "        vertical-align: top;\n",
       "    }\n",
       "\n",
       "    .dataframe thead th {\n",
       "        text-align: right;\n",
       "    }\n",
       "</style>\n",
       "<table border=\"1\" class=\"dataframe\">\n",
       "  <thead>\n",
       "    <tr style=\"text-align: right;\">\n",
       "      <th></th>\n",
       "      <th>popularity</th>\n",
       "      <th>budget</th>\n",
       "      <th>revenue</th>\n",
       "      <th>original_title</th>\n",
       "      <th>cast</th>\n",
       "      <th>director</th>\n",
       "      <th>runtime</th>\n",
       "      <th>genres</th>\n",
       "      <th>production_companies</th>\n",
       "      <th>release_date</th>\n",
       "      <th>vote_count</th>\n",
       "      <th>ratings</th>\n",
       "      <th>release_year</th>\n",
       "      <th>budget_adj</th>\n",
       "      <th>revenue_adj</th>\n",
       "      <th>profit</th>\n",
       "    </tr>\n",
       "  </thead>\n",
       "  <tbody>\n",
       "    <tr>\n",
       "      <th>0</th>\n",
       "      <td>32.985763</td>\n",
       "      <td>150000000</td>\n",
       "      <td>1513528810</td>\n",
       "      <td>Jurassic World</td>\n",
       "      <td>Chris Pratt|Bryce Dallas Howard|Irrfan Khan|Vi...</td>\n",
       "      <td>Colin Trevorrow</td>\n",
       "      <td>124</td>\n",
       "      <td>Action|Adventure|Science Fiction|Thriller</td>\n",
       "      <td>Universal Studios|Amblin Entertainment|Legenda...</td>\n",
       "      <td>6/9/15</td>\n",
       "      <td>5562</td>\n",
       "      <td>6.5</td>\n",
       "      <td>2015</td>\n",
       "      <td>1.379999e+08</td>\n",
       "      <td>1.392446e+09</td>\n",
       "      <td>1.254446e+09</td>\n",
       "    </tr>\n",
       "    <tr>\n",
       "      <th>1</th>\n",
       "      <td>28.419936</td>\n",
       "      <td>150000000</td>\n",
       "      <td>378436354</td>\n",
       "      <td>Mad Max: Fury Road</td>\n",
       "      <td>Tom Hardy|Charlize Theron|Hugh Keays-Byrne|Nic...</td>\n",
       "      <td>George Miller</td>\n",
       "      <td>120</td>\n",
       "      <td>Action|Adventure|Science Fiction|Thriller</td>\n",
       "      <td>Village Roadshow Pictures|Kennedy Miller Produ...</td>\n",
       "      <td>5/13/15</td>\n",
       "      <td>6185</td>\n",
       "      <td>7.1</td>\n",
       "      <td>2015</td>\n",
       "      <td>1.379999e+08</td>\n",
       "      <td>3.481613e+08</td>\n",
       "      <td>2.101614e+08</td>\n",
       "    </tr>\n",
       "  </tbody>\n",
       "</table>\n",
       "</div>"
      ],
      "text/plain": [
       "   popularity     budget     revenue      original_title  \\\n",
       "0   32.985763  150000000  1513528810      Jurassic World   \n",
       "1   28.419936  150000000   378436354  Mad Max: Fury Road   \n",
       "\n",
       "                                                cast         director  \\\n",
       "0  Chris Pratt|Bryce Dallas Howard|Irrfan Khan|Vi...  Colin Trevorrow   \n",
       "1  Tom Hardy|Charlize Theron|Hugh Keays-Byrne|Nic...    George Miller   \n",
       "\n",
       "   runtime                                     genres  \\\n",
       "0      124  Action|Adventure|Science Fiction|Thriller   \n",
       "1      120  Action|Adventure|Science Fiction|Thriller   \n",
       "\n",
       "                                production_companies release_date  vote_count  \\\n",
       "0  Universal Studios|Amblin Entertainment|Legenda...       6/9/15        5562   \n",
       "1  Village Roadshow Pictures|Kennedy Miller Produ...      5/13/15        6185   \n",
       "\n",
       "   ratings  release_year    budget_adj   revenue_adj        profit  \n",
       "0      6.5          2015  1.379999e+08  1.392446e+09  1.254446e+09  \n",
       "1      7.1          2015  1.379999e+08  3.481613e+08  2.101614e+08  "
      ]
     },
     "execution_count": 62,
     "metadata": {},
     "output_type": "execute_result"
    }
   ],
   "source": [
    "data.head(2)"
   ]
  },
  {
   "cell_type": "code",
   "execution_count": 63,
   "id": "673c13ee",
   "metadata": {},
   "outputs": [],
   "source": [
    "def plot(data,x,y,kind): #take a number of parameters and plots \n",
    "    data.plot(x=x, y=y, kind=kind, figsize=(5,3));"
   ]
  },
  {
   "cell_type": "markdown",
   "id": "d8a330b9",
   "metadata": {},
   "source": []
  },
  {
   "cell_type": "code",
   "execution_count": 64,
   "id": "2237abe2",
   "metadata": {},
   "outputs": [
    {
     "data": {
      "image/png": "[encoded data removed]",
      "text/plain": [
       "<Figure size 360x216 with 1 Axes>"
      ]
     },
     "metadata": {
      "needs_background": "light"
     },
     "output_type": "display_data"
    }
   ],
   "source": [
    "## Is movie popularity related to Profit?\n",
    "plot(data, 'profit','popularity','scatter')"
   ]
  },
  {
   "cell_type": "code",
   "execution_count": 65,
   "id": "c28c36be",
   "metadata": {},
   "outputs": [
    {
     "data": {
      "image/png": "[encoded data removed]",
      "text/plain": [
       "<Figure size 360x216 with 1 Axes>"
      ]
     },
     "metadata": {
      "needs_background": "light"
     },
     "output_type": "display_data"
    }
   ],
   "source": [
    "## Is movie rating related to Profit?\n",
    "plot(data, 'profit','ratings','scatter')"
   ]
  },
  {
   "cell_type": "code",
   "execution_count": 66,
   "id": "e38f6729",
   "metadata": {},
   "outputs": [
    {
     "data": {
      "image/png": "[encoded data removed]",
      "text/plain": [
       "<Figure size 360x216 with 1 Axes>"
      ]
     },
     "metadata": {
      "needs_background": "light"
     },
     "output_type": "display_data"
    }
   ],
   "source": [
    "## Is movie budget related to Profit?\n",
    "plot(data, 'profit','budget_adj','scatter')"
   ]
  },
  {
   "cell_type": "code",
   "execution_count": 67,
   "id": "bc4ab748",
   "metadata": {
    "scrolled": true
   },
   "outputs": [
    {
     "data": {
      "image/png": "[encoded data removed]",
      "text/plain": [
       "<Figure size 360x216 with 1 Axes>"
      ]
     },
     "metadata": {
      "needs_background": "light"
     },
     "output_type": "display_data"
    }
   ],
   "source": [
    "## Is revenue generated related to Profit?\n",
    "plot(data, 'profit','revenue_adj','scatter')"
   ]
  },
  {
   "cell_type": "markdown",
   "id": "805b01fe",
   "metadata": {},
   "source": [
    "The only obvious property that seems to be correlated with profit is revenue. The higher the revenue a movie generates, the higher the profit that movie is likely to make. This means revenue and profit have positive correlation with each other. The other features seem to have no significant correlation with profit"
   ]
  },
  {
   "cell_type": "markdown",
   "id": "eee65e2a",
   "metadata": {},
   "source": [
    "# Conclusions"
   ]
  },
  {
   "cell_type": "markdown",
   "id": "7f72f9e8",
   "metadata": {},
   "source": [
    ">I had a lot of fun working with this dataset. AS a movie enthusiast, analyzing a dataset like this was such a thrill. Now I know more about the movie industry. Prior to working on this project, I had no idea who Woody Allen was. Now, I know he is a director that produced the mot movies from 1960 - 2015. I do not think i'll ever forget Woody Allen's name and his role in movies'. I do love comedy and drama genre, so I was not dissapointed they were the top genres.\n",
    "\n",
    ">Naturally, I expected comey and drama genre to have the highest profit average, but I am not mad that adventure genre took that. I trust the data and the analysis.\n",
    "\n",
    ">My love for movies and my curiousity prompted these much questions and I am glad I was able to manipulate the data to be able to answer my questions and draw conclusions as well.\n",
    "\n"
   ]
  },
  {
   "cell_type": "markdown",
   "id": "8e816f41",
   "metadata": {},
   "source": [
    "# Limitations\n",
    "\n",
    ">The only downside to the data is the inconsistent entries of some values, such as budget and revenue that have 0-values. I know for sure, there can't be a movie out there that has no budget. At least not in the movie industry. Aside that, I had a lot of fun and I learned a lot."
   ]
  }
 ],
 "metadata": {
  "kernelspec": {
   "display_name": "Python 3",
   "language": "python",
   "name": "python3"
  },
  "language_info": {
   "codemirror_mode": {
    "name": "ipython",
    "version": 3
   },
   "file_extension": ".py",
   "mimetype": "text/x-python",
   "name": "python",
   "nbconvert_exporter": "python",
   "pygments_lexer": "ipython3",
   "version": "3.8.8"
  }
 },
 "nbformat": 4,
 "nbformat_minor": 5
}
